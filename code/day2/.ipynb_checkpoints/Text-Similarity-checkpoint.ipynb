{
 "cells": [
  {
   "cell_type": "code",
   "execution_count": 1,
   "metadata": {},
   "outputs": [],
   "source": [
    "documents = [\"This little cat came to play when I was eating at a restaurant. I had to take a photo.\",\n",
    "             \"Merley has the best squooshy kitten belly.\",\n",
    "             \"Google Translate app is incredible.\",\n",
    "             \"If you open 100 tabs in google chrome you get a smiley face.\",\n",
    "             \"Best cat photo I've ever taken.\",\n",
    "             \"Climbing ninja cat.\",\n",
    "             \"Impressed with the current version of the google translate app.\",\n",
    "             \"Key promoter extension for Google Chrome.\"]"
   ]
  },
  {
   "cell_type": "code",
   "execution_count": 2,
   "metadata": {},
   "outputs": [],
   "source": [
    "import nltk\n",
    "from sklearn.feature_extraction.text import TfidfVectorizer\n",
    "from nltk.corpus import stopwords\n",
    "import re\n",
    "from nltk.tokenize import word_tokenize\n",
    "import pandas as pd\n",
    "#from nltk.stem import WordNetLemmatizer\n"
   ]
  },
  {
   "cell_type": "code",
   "execution_count": 3,
   "metadata": {},
   "outputs": [
    {
     "data": {
      "text/plain": [
       "'!\"#$%&\\'()*+,-./:;<=>?@[\\\\]^_`{|}~'"
      ]
     },
     "execution_count": 3,
     "metadata": {},
     "output_type": "execute_result"
    }
   ],
   "source": [
    "import string\n",
    "string.punctuation"
   ]
  },
  {
   "cell_type": "code",
   "execution_count": 4,
   "metadata": {},
   "outputs": [],
   "source": [
    "def text_preprocesser(text):\n",
    "    text= re.sub(r'\\W',' ', text)\n",
    "    tokens = word_tokenize(text.lower())\n",
    "    tokens = [token for token in tokens if token not in stopwords.words('english')]\n",
    "    tokens = [word for word in tokens if len(word)>=3]\n",
    "    preprocessed_text = ' '.join(tokens)\n",
    "    return preprocessed_text "
   ]
  },
  {
   "cell_type": "code",
   "execution_count": 5,
   "metadata": {},
   "outputs": [
    {
     "data": {
      "text/plain": [
       "'little cat came play eating restaurant take photo'"
      ]
     },
     "execution_count": 5,
     "metadata": {},
     "output_type": "execute_result"
    }
   ],
   "source": [
    "text_preprocesser(documents[0])"
   ]
  },
  {
   "cell_type": "code",
   "execution_count": 6,
   "metadata": {},
   "outputs": [],
   "source": [
    "tokens = text_preprocesser(\" \".join(documents)).split()"
   ]
  },
  {
   "cell_type": "code",
   "execution_count": 7,
   "metadata": {},
   "outputs": [
    {
     "data": {
      "text/plain": [
       "Counter({'little': 1,\n",
       "         'cat': 3,\n",
       "         'came': 1,\n",
       "         'play': 1,\n",
       "         'eating': 1,\n",
       "         'restaurant': 1,\n",
       "         'take': 1,\n",
       "         'photo': 2,\n",
       "         'merley': 1,\n",
       "         'best': 2,\n",
       "         'squooshy': 1,\n",
       "         'kitten': 1,\n",
       "         'belly': 1,\n",
       "         'google': 4,\n",
       "         'translate': 2,\n",
       "         'app': 2,\n",
       "         'incredible': 1,\n",
       "         'open': 1,\n",
       "         '100': 1,\n",
       "         'tabs': 1,\n",
       "         'chrome': 2,\n",
       "         'get': 1,\n",
       "         'smiley': 1,\n",
       "         'face': 1,\n",
       "         'ever': 1,\n",
       "         'taken': 1,\n",
       "         'climbing': 1,\n",
       "         'ninja': 1,\n",
       "         'impressed': 1,\n",
       "         'current': 1,\n",
       "         'version': 1,\n",
       "         'key': 1,\n",
       "         'promoter': 1,\n",
       "         'extension': 1})"
      ]
     },
     "execution_count": 7,
     "metadata": {},
     "output_type": "execute_result"
    }
   ],
   "source": [
    "from collections import Counter\n",
    "dict_counts = Counter(tokens)\n",
    "dict_counts"
   ]
  },
  {
   "cell_type": "code",
   "execution_count": 8,
   "metadata": {},
   "outputs": [
    {
     "data": {
      "text/plain": [
       "([<matplotlib.axis.XTick at 0x7fe388dce5e0>,\n",
       "  <matplotlib.axis.XTick at 0x7fe388dce5b0>,\n",
       "  <matplotlib.axis.XTick at 0x7fe388dc7100>,\n",
       "  <matplotlib.axis.XTick at 0x7fe3786f9dc0>,\n",
       "  <matplotlib.axis.XTick at 0x7fe3a9c48310>],\n",
       " [Text(0, 0, 'google'),\n",
       "  Text(1, 0, 'cat'),\n",
       "  Text(2, 0, 'photo'),\n",
       "  Text(3, 0, 'app'),\n",
       "  Text(4, 0, 'chrome')])"
      ]
     },
     "execution_count": 8,
     "metadata": {},
     "output_type": "execute_result"
    },
    {
     "data": {
      "image/png": "[encoded data removed]",
      "text/plain": [
       "<Figure size 432x288 with 1 Axes>"
      ]
     },
     "metadata": {
      "needs_background": "light"
     },
     "output_type": "display_data"
    }
   ],
   "source": [
    "labels, values = zip(*dict_counts.items())\n",
    "import numpy as np\n",
    "import matplotlib.pyplot as plt\n",
    "%matplotlib inline \n",
    "# sort your values in descending order\n",
    "indSort = np.argsort(values)[::-1]\n",
    "\n",
    "# rearrange your data and show top 5 words\n",
    "labels = np.array(labels)[indSort][0:5]\n",
    "values = np.array(values)[indSort][0:5]\n",
    "\n",
    "indexes = np.arange(len(labels))\n",
    "\n",
    "plt.bar(indexes, values, color=\"red\")\n",
    "\n",
    "# add labels\n",
    "plt.xticks(indexes, labels, rotation=45)"
   ]
  },
  {
   "cell_type": "code",
   "execution_count": 9,
   "metadata": {},
   "outputs": [],
   "source": [
    "#pip install WordCloud\n",
    "#from wordcloud import WordCloud"
   ]
  },
  {
   "cell_type": "code",
   "execution_count": 10,
   "metadata": {},
   "outputs": [
    {
     "data": {
      "text/plain": [
       "<matplotlib.image.AxesImage at 0x7fe388de67f0>"
      ]
     },
     "execution_count": 10,
     "metadata": {},
     "output_type": "execute_result"
    },
    {
     "data": {
      "image/png": "[encoded data removed]",
      "text/plain": [
       "<Figure size 432x288 with 1 Axes>"
      ]
     },
     "metadata": {
      "needs_background": "light"
     },
     "output_type": "display_data"
    }
   ],
   "source": [
    "\n",
    "wc = WordCloud(width=1800, height=900, background_color=\"white\",\n",
    "               max_words = 20, relative_scaling = 0.5, \n",
    "               normalize_plurals = False).generate_from_frequencies(dict_counts)\n",
    "plt.imshow(wc)"
   ]
  },
  {
   "cell_type": "code",
   "execution_count": 11,
   "metadata": {},
   "outputs": [],
   "source": [
    "tfidf_vectorizer = TfidfVectorizer(preprocessor = text_preprocesser, min_df =2 )"
   ]
  },
  {
   "cell_type": "code",
   "execution_count": 12,
   "metadata": {},
   "outputs": [
    {
     "data": {
      "text/plain": [
       "TfidfVectorizer(min_df=2,\n",
       "                preprocessor=<function text_preprocesser at 0x7fe3a9784820>)"
      ]
     },
     "execution_count": 12,
     "metadata": {},
     "output_type": "execute_result"
    }
   ],
   "source": [
    "tfidf_vectorizer"
   ]
  },
  {
   "cell_type": "code",
   "execution_count": 13,
   "metadata": {},
   "outputs": [],
   "source": [
    "tfidf = tfidf_vectorizer.fit_transform(documents)"
   ]
  },
  {
   "cell_type": "code",
   "execution_count": 14,
   "metadata": {},
   "outputs": [],
   "source": [
    "df= pd.DataFrame(tfidf.toarray().transpose(), index=tfidf_vectorizer.get_feature_names())\n",
    "df.columns = ['doc1', 'doc2', 'doc3', 'doc4','doc5', 'doc6', 'doc7', 'doc8']"
   ]
  },
  {
   "cell_type": "code",
   "execution_count": 15,
   "metadata": {},
   "outputs": [
    {
     "data": {
      "text/html": [
       "<div>\n",
       "<style scoped>\n",
       "    .dataframe tbody tr th:only-of-type {\n",
       "        vertical-align: middle;\n",
       "    }\n",
       "\n",
       "    .dataframe tbody tr th {\n",
       "        vertical-align: top;\n",
       "    }\n",
       "\n",
       "    .dataframe thead th {\n",
       "        text-align: right;\n",
       "    }\n",
       "</style>\n",
       "<table border=\"1\" class=\"dataframe\">\n",
       "  <thead>\n",
       "    <tr style=\"text-align: right;\">\n",
       "      <th></th>\n",
       "      <th>doc1</th>\n",
       "      <th>doc2</th>\n",
       "      <th>doc3</th>\n",
       "      <th>doc4</th>\n",
       "      <th>doc5</th>\n",
       "      <th>doc6</th>\n",
       "      <th>doc7</th>\n",
       "      <th>doc8</th>\n",
       "    </tr>\n",
       "  </thead>\n",
       "  <tbody>\n",
       "    <tr>\n",
       "      <th>app</th>\n",
       "      <td>0.000000</td>\n",
       "      <td>0.0</td>\n",
       "      <td>0.623489</td>\n",
       "      <td>0.000000</td>\n",
       "      <td>0.000000</td>\n",
       "      <td>0.0</td>\n",
       "      <td>0.623489</td>\n",
       "      <td>0.000000</td>\n",
       "    </tr>\n",
       "    <tr>\n",
       "      <th>best</th>\n",
       "      <td>0.000000</td>\n",
       "      <td>1.0</td>\n",
       "      <td>0.000000</td>\n",
       "      <td>0.000000</td>\n",
       "      <td>0.603613</td>\n",
       "      <td>0.0</td>\n",
       "      <td>0.000000</td>\n",
       "      <td>0.000000</td>\n",
       "    </tr>\n",
       "    <tr>\n",
       "      <th>cat</th>\n",
       "      <td>0.653308</td>\n",
       "      <td>0.0</td>\n",
       "      <td>0.000000</td>\n",
       "      <td>0.000000</td>\n",
       "      <td>0.520868</td>\n",
       "      <td>1.0</td>\n",
       "      <td>0.000000</td>\n",
       "      <td>0.000000</td>\n",
       "    </tr>\n",
       "    <tr>\n",
       "      <th>chrome</th>\n",
       "      <td>0.000000</td>\n",
       "      <td>0.0</td>\n",
       "      <td>0.000000</td>\n",
       "      <td>0.797471</td>\n",
       "      <td>0.000000</td>\n",
       "      <td>0.0</td>\n",
       "      <td>0.000000</td>\n",
       "      <td>0.797471</td>\n",
       "    </tr>\n",
       "    <tr>\n",
       "      <th>google</th>\n",
       "      <td>0.000000</td>\n",
       "      <td>0.0</td>\n",
       "      <td>0.471725</td>\n",
       "      <td>0.603358</td>\n",
       "      <td>0.000000</td>\n",
       "      <td>0.0</td>\n",
       "      <td>0.471725</td>\n",
       "      <td>0.603358</td>\n",
       "    </tr>\n",
       "    <tr>\n",
       "      <th>photo</th>\n",
       "      <td>0.757092</td>\n",
       "      <td>0.0</td>\n",
       "      <td>0.000000</td>\n",
       "      <td>0.000000</td>\n",
       "      <td>0.603613</td>\n",
       "      <td>0.0</td>\n",
       "      <td>0.000000</td>\n",
       "      <td>0.000000</td>\n",
       "    </tr>\n",
       "    <tr>\n",
       "      <th>translate</th>\n",
       "      <td>0.000000</td>\n",
       "      <td>0.0</td>\n",
       "      <td>0.623489</td>\n",
       "      <td>0.000000</td>\n",
       "      <td>0.000000</td>\n",
       "      <td>0.0</td>\n",
       "      <td>0.623489</td>\n",
       "      <td>0.000000</td>\n",
       "    </tr>\n",
       "  </tbody>\n",
       "</table>\n",
       "</div>"
      ],
      "text/plain": [
       "               doc1  doc2      doc3      doc4      doc5  doc6      doc7  \\\n",
       "app        0.000000   0.0  0.623489  0.000000  0.000000   0.0  0.623489   \n",
       "best       0.000000   1.0  0.000000  0.000000  0.603613   0.0  0.000000   \n",
       "cat        0.653308   0.0  0.000000  0.000000  0.520868   1.0  0.000000   \n",
       "chrome     0.000000   0.0  0.000000  0.797471  0.000000   0.0  0.000000   \n",
       "google     0.000000   0.0  0.471725  0.603358  0.000000   0.0  0.471725   \n",
       "photo      0.757092   0.0  0.000000  0.000000  0.603613   0.0  0.000000   \n",
       "translate  0.000000   0.0  0.623489  0.000000  0.000000   0.0  0.623489   \n",
       "\n",
       "               doc8  \n",
       "app        0.000000  \n",
       "best       0.000000  \n",
       "cat        0.000000  \n",
       "chrome     0.797471  \n",
       "google     0.603358  \n",
       "photo      0.000000  \n",
       "translate  0.000000  "
      ]
     },
     "execution_count": 15,
     "metadata": {},
     "output_type": "execute_result"
    }
   ],
   "source": [
    "df"
   ]
  },
  {
   "cell_type": "code",
   "execution_count": 16,
   "metadata": {},
   "outputs": [],
   "source": [
    "from sklearn.metrics.pairwise import cosine_similarity"
   ]
  },
  {
   "cell_type": "code",
   "execution_count": 17,
   "metadata": {},
   "outputs": [
    {
     "data": {
      "text/plain": [
       "(1, 7)"
      ]
     },
     "execution_count": 17,
     "metadata": {},
     "output_type": "execute_result"
    }
   ],
   "source": [
    "df['doc1'].values.reshape(1, -1).shape"
   ]
  },
  {
   "cell_type": "code",
   "execution_count": 18,
   "metadata": {},
   "outputs": [],
   "source": [
    "for i in range(1, 9):\n",
    "    globals()[\"txt\" + str(i)] =df[df.columns[i-1]].values.reshape(1, -1)  "
   ]
  },
  {
   "cell_type": "code",
   "execution_count": 19,
   "metadata": {},
   "outputs": [
    {
     "data": {
      "text/plain": [
       "array([[0.62348857, 0.        , 0.        , 0.        , 0.4717245 ,\n",
       "        0.        , 0.62348857]])"
      ]
     },
     "execution_count": 19,
     "metadata": {},
     "output_type": "execute_result"
    }
   ],
   "source": [
    "txt3"
   ]
  },
  {
   "cell_type": "code",
   "execution_count": 20,
   "metadata": {},
   "outputs": [
    {
     "name": "stdout",
     "output_type": "stream",
     "text": [
      "Similarity txt1 and txt2: [[0.]]\n"
     ]
    }
   ],
   "source": [
    "print(\"Similarity txt1 and txt2:\", cosine_similarity(txt1, txt2))"
   ]
  },
  {
   "cell_type": "code",
   "execution_count": 21,
   "metadata": {},
   "outputs": [
    {
     "name": "stdout",
     "output_type": "stream",
     "text": [
      "Similarity txt3 and txt7: [[1.]]\n"
     ]
    }
   ],
   "source": [
    "print(\"Similarity txt3 and txt7:\", cosine_similarity(txt3, txt7))"
   ]
  },
  {
   "cell_type": "code",
   "execution_count": 22,
   "metadata": {},
   "outputs": [
    {
     "name": "stdout",
     "output_type": "stream",
     "text": [
      "Similarity txt1 and txt3: [[0.79727775]]\n"
     ]
    }
   ],
   "source": [
    "print(\"Similarity txt1 and txt3:\", cosine_similarity(txt1, txt5))"
   ]
  },
  {
   "cell_type": "code",
   "execution_count": 23,
   "metadata": {},
   "outputs": [
    {
     "name": "stdout",
     "output_type": "stream",
     "text": [
      "Similarity txt1 and txt7: [[0.65330828]]\n"
     ]
    }
   ],
   "source": [
    "print(\"Similarity txt1 and txt7:\", cosine_similarity(df['doc1'].values.reshape(1, -1), df['doc6'].values.reshape(1, -1)))"
   ]
  },
  {
   "cell_type": "code",
   "execution_count": 24,
   "metadata": {},
   "outputs": [
    {
     "data": {
      "text/plain": [
       "array([[0.62348857, 0.        , 0.        , 0.        , 0.4717245 ,\n",
       "        0.        , 0.62348857]])"
      ]
     },
     "execution_count": 24,
     "metadata": {},
     "output_type": "execute_result"
    }
   ],
   "source": [
    "txt7"
   ]
  }
 ],
 "metadata": {
  "kernelspec": {
   "display_name": "Python 3",
   "language": "python",
   "name": "python3"
  },
  "language_info": {
   "codemirror_mode": {
    "name": "ipython",
    "version": 3
   },
   "file_extension": ".py",
   "mimetype": "text/x-python",
   "name": "python",
   "nbconvert_exporter": "python",
   "pygments_lexer": "ipython3",
   "version": "3.8.5"
  }
 },
 "nbformat": 4,
 "nbformat_minor": 2
}
