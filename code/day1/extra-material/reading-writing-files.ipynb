{
 "cells": [
  {
   "cell_type": "markdown",
   "metadata": {},
   "source": [
    "### Raw Strings\n",
    "In Python, we use `r` before the beginning quotation mark of a string -- single or double quote -- to declare a raw string. A raw string ignores all escape characters it might encounter and prints them. Python considers the backslash as part of the string and not as the start of an escape character. Raw strings are helpful if you are typing string values that contain many backslashes, such as the strings used for regular expressions (which we will cover in our next meeting).\n"
   ]
  },
  {
   "cell_type": "code",
   "execution_count": 1,
   "metadata": {},
   "outputs": [
    {
     "name": "stdout",
     "output_type": "stream",
     "text": [
      "Szczecin is located on the river Oder, south of the Szczecin Lagoon and the Bay of Pomerania. The city is situated along the southwestern shore of Dąbie Lake, on both sides of the Oder and on several large islands between the western and eastern branches of the river. Szczecin is adjacent to the town of Police and is the urban centre of the Szczecin agglomeration, an extended metropolitan area that includes communities in the German states of Brandenburg and Mecklenburg-Western Pomerania.\n"
     ]
    }
   ],
   "source": [
    "print(r'Szczecin is located on the river Oder, south of the Szczecin Lagoon and the Bay of Pomerania. The city is situated along the southwestern shore of Dąbie Lake, on both sides of the Oder and on several large islands between the western and eastern branches of the river. Szczecin is adjacent to the town of Police and is the urban centre of the Szczecin agglomeration, an extended metropolitan area that includes communities in the German states of Brandenburg and Mecklenburg-Western Pomerania.')"
   ]
  },
  {
   "cell_type": "markdown",
   "metadata": {},
   "source": [
    "### Multiline Strings with Triple Quotes\n",
    "While you can use the `\\n` escape character to put a newline into a string, it is often easier to use multiline strings. A multiline string in Python begins and ends with either three single quotes or three double quotes. Any quotes, tabs, or newlines in between the \"triple quotes\" are considered part of the string. Python's indentation rules for blocks do not apply to lines inside a multiline string."
   ]
  },
  {
   "cell_type": "code",
   "execution_count": 2,
   "metadata": {},
   "outputs": [],
   "source": [
    "intro_paragraph = \"\"\"Szczecin (UK: /ˈʃtʃɛtʃɪn/ SHCHETCH-in,[2] \n",
    "US: /-tʃiːn/ -⁠een,[3][4][5] Polish: [ˈʂt͡ʂɛt͡ɕin] (listen); German: \n",
    "Stettin [ʃtɛˈtiːn] (listen); Swedish: Stettin [stɛˈtiːn]; Latin: \n",
    "Sedinum or Stetinum[6]) is the capital and largest city of the West \n",
    "Pomeranian Voivodeship in northwestern Poland. Located near the Baltic Sea and the German border, \n",
    "it is a major seaport and Poland's seventh-largest city. As of December 2021, the population was 395,513.[1]\"\"\""
   ]
  },
  {
   "cell_type": "code",
   "execution_count": 3,
   "metadata": {},
   "outputs": [
    {
     "data": {
      "text/plain": [
       "str"
      ]
     },
     "execution_count": 3,
     "metadata": {},
     "output_type": "execute_result"
    }
   ],
   "source": [
    "type(intro_paragraph)"
   ]
  },
  {
   "cell_type": "markdown",
   "metadata": {},
   "source": [
    "### Reading files \n",
    "\n",
    "We can import string from a file and store it in a variable. Let's do this using the file named `Hello.txt`.\n",
    "\n",
    "In Python, we open a file using the `open()` method and pass the file you want to open. Usually, we can open a file to read or write. Main exceptions are pdf where we cannot only write a pdf combining information from existing pdfs. More on this later. Text files with the .txt extension or Python script files with the .py extension are examples of plain text files. \n",
    "\n",
    "We are going to start reading and writing text files. Your programs can easily read the contents of plaintext files and treat them as an ordinary string value. (Binary files are all other file types, such as word processing documents, PDFs, images, spreadsheets, etc.)"
   ]
  },
  {
   "cell_type": "code",
   "execution_count": 4,
   "metadata": {},
   "outputs": [],
   "source": [
    "import os"
   ]
  },
  {
   "cell_type": "code",
   "execution_count": 5,
   "metadata": {},
   "outputs": [
    {
     "data": {
      "text/plain": [
       "'/Users/mucoa/Dropbox/Mac (2)/Desktop/FROGEE/code/day1/extra-material'"
      ]
     },
     "execution_count": 5,
     "metadata": {},
     "output_type": "execute_result"
    }
   ],
   "source": [
    "pwd"
   ]
  },
  {
   "cell_type": "code",
   "execution_count": 6,
   "metadata": {},
   "outputs": [],
   "source": [
    "os.chdir(\"../\")"
   ]
  },
  {
   "cell_type": "code",
   "execution_count": 7,
   "metadata": {},
   "outputs": [
    {
     "data": {
      "text/plain": [
       "'/Users/mucoa/Dropbox/Mac (2)/Desktop/FROGEE/code/day1'"
      ]
     },
     "execution_count": 7,
     "metadata": {},
     "output_type": "execute_result"
    }
   ],
   "source": [
    "pwd"
   ]
  },
  {
   "cell_type": "code",
   "execution_count": 8,
   "metadata": {},
   "outputs": [],
   "source": [
    "#let's set the directory to the course dircetory with absolute paths"
   ]
  },
  {
   "cell_type": "code",
   "execution_count": 9,
   "metadata": {},
   "outputs": [],
   "source": [
    "os.chdir(\"/Users/mucoa/Dropbox/Mac (2)/Desktop/FROGEE/\")"
   ]
  },
  {
   "cell_type": "code",
   "execution_count": 10,
   "metadata": {},
   "outputs": [
    {
     "data": {
      "text/plain": [
       "['.DS_Store', 'input', 'output', 'code', 'README.md', 'figures', '.git']"
      ]
     },
     "execution_count": 10,
     "metadata": {},
     "output_type": "execute_result"
    }
   ],
   "source": [
    "os.listdir()"
   ]
  },
  {
   "cell_type": "code",
   "execution_count": 11,
   "metadata": {},
   "outputs": [
    {
     "data": {
      "text/plain": [
       "['nltk_stopwords.txt',\n",
       " 'app20170223.pdf',\n",
       " 'szczecin.txt',\n",
       " 'Hello.txt',\n",
       " 'app20170295.pdf']"
      ]
     },
     "execution_count": 11,
     "metadata": {},
     "output_type": "execute_result"
    }
   ],
   "source": [
    "os.listdir(\"input\")"
   ]
  },
  {
   "cell_type": "code",
   "execution_count": 12,
   "metadata": {},
   "outputs": [],
   "source": [
    "hello = open(\"input/Hello.txt\")"
   ]
  },
  {
   "cell_type": "markdown",
   "metadata": {},
   "source": [
    "### Access Modes\n",
    "\n",
    "Access modes define in which way you want to open a file, whether you want to open a file in:\n",
    "\n",
    "-- read-only mode -- denoted by `r`, the default mode \n",
    "\n",
    "-- write-only mode -- denoted by `w` \n",
    "\n",
    "-- append mode -- denoted by `a` \n",
    "\n",
    "The most commonly used ones are read and write modes. Sometimes when looking for help on the internet you might encounter that the file is opened both in both read and write mode  -- denoted by `rw`. Be careful when using both read and write method contemporaneously as you may modify original files, which you usually do not want to. "
   ]
  },
  {
   "cell_type": "markdown",
   "metadata": {},
   "source": [
    "Now let's read the content of our file."
   ]
  },
  {
   "cell_type": "code",
   "execution_count": 13,
   "metadata": {},
   "outputs": [],
   "source": [
    "hello_string = hello.read()"
   ]
  },
  {
   "cell_type": "code",
   "execution_count": 14,
   "metadata": {},
   "outputs": [
    {
     "data": {
      "text/plain": [
       "str"
      ]
     },
     "execution_count": 14,
     "metadata": {},
     "output_type": "execute_result"
    }
   ],
   "source": [
    "type(hello_string)"
   ]
  },
  {
   "cell_type": "code",
   "execution_count": 15,
   "metadata": {},
   "outputs": [],
   "source": [
    "szczecin = open(\"input/szczecin.txt\", mode='r', encoding=\"utf-8\" )"
   ]
  },
  {
   "cell_type": "code",
   "execution_count": 16,
   "metadata": {},
   "outputs": [
    {
     "data": {
      "text/plain": [
       "['Szczecin is located on the river Oder, south of the Szczecin Lagoon and the Bay of Pomerania. The city is situated along the southwestern shore of Dąbie Lake, on both sides of the Oder and on several large islands between the western and eastern branches of the river. Szczecin is adjacent to the town of Police and is the urban centre of the Szczecin agglomeration, an extended metropolitan area that includes communities in the German states of Brandenburg and Mecklenburg-Western Pomerania.\\n',\n",
       " '\\n',\n",
       " \"Szczecin is the administrative and industrial centre of West Pomeranian Voivodeship and is the site of the University of Szczecin, Pomeranian Medical University, Maritime University, West Pomeranian University of Technology, Szczecin Art Academy, and the see of the Szczecin-Kamień Catholic Archdiocese. The city's historical landmarks include the Szczecin Cathedral, the Pomeranian Dukes' Castle and the National Museum. From 1999 onwards, Szczecin has served as the site of the headquarters of NATO's Multinational Corps Northeast. The city was a candidate for the European Capital of Culture in 2016\"]"
      ]
     },
     "execution_count": 16,
     "metadata": {},
     "output_type": "execute_result"
    }
   ],
   "source": [
    "szczecin.readlines()"
   ]
  },
  {
   "cell_type": "code",
   "execution_count": 17,
   "metadata": {},
   "outputs": [
    {
     "data": {
      "text/plain": [
       "list"
      ]
     },
     "execution_count": 17,
     "metadata": {},
     "output_type": "execute_result"
    }
   ],
   "source": [
    "type(szczecin.readlines())"
   ]
  },
  {
   "cell_type": "markdown",
   "metadata": {},
   "source": [
    "We can also write our own text files."
   ]
  },
  {
   "cell_type": "code",
   "execution_count": 18,
   "metadata": {},
   "outputs": [],
   "source": [
    "my_file = open(\"output/first_file.txt\",'w') "
   ]
  },
  {
   "cell_type": "code",
   "execution_count": 19,
   "metadata": {},
   "outputs": [
    {
     "data": {
      "text/plain": [
       "48"
      ]
     },
     "execution_count": 19,
     "metadata": {},
     "output_type": "execute_result"
    }
   ],
   "source": [
    "my_file.write(\"This is the first file that I write with Python.\")"
   ]
  },
  {
   "cell_type": "markdown",
   "metadata": {},
   "source": [
    "To see what's writen in the file, we should first close it. An alternative way would be to do the following\n",
    "```\n",
    "with open(\"output/first_file.txt\",'w') as my_file:\n",
    "    my_file.write(\"This is the first file that I write with Python.\")\n",
    "```"
   ]
  },
  {
   "cell_type": "code",
   "execution_count": 20,
   "metadata": {},
   "outputs": [],
   "source": [
    "my_file.close()"
   ]
  },
  {
   "cell_type": "code",
   "execution_count": 21,
   "metadata": {},
   "outputs": [],
   "source": [
    "my_file = open(\"output/first_file.txt\",'w') "
   ]
  },
  {
   "cell_type": "code",
   "execution_count": 22,
   "metadata": {},
   "outputs": [],
   "source": [
    "lines = [\"First Line\",\"Second Line\",\"Third Line\",\"Fourth Line\"]"
   ]
  },
  {
   "cell_type": "code",
   "execution_count": 23,
   "metadata": {},
   "outputs": [],
   "source": [
    "with open(\"output/first_file.txt\",'w') as my_file:\n",
    "    for line in lines:\n",
    "        my_file.write(line + \"\\n\")"
   ]
  },
  {
   "cell_type": "code",
   "execution_count": 24,
   "metadata": {},
   "outputs": [
    {
     "data": {
      "text/plain": [
       "['First Line\\n', 'Second Line\\n', 'Third Line\\n', 'Fourth Line\\n']"
      ]
     },
     "execution_count": 24,
     "metadata": {},
     "output_type": "execute_result"
    }
   ],
   "source": [
    "f = open(\"output/first_file.txt\",'r')\n",
    "f.readlines()"
   ]
  },
  {
   "cell_type": "markdown",
   "metadata": {},
   "source": [
    "In case you want to append the list to the first line you wrote previously, use append mode."
   ]
  },
  {
   "cell_type": "code",
   "execution_count": 25,
   "metadata": {},
   "outputs": [],
   "source": [
    "#!pip install Wikipedia"
   ]
  },
  {
   "cell_type": "code",
   "execution_count": 26,
   "metadata": {},
   "outputs": [],
   "source": [
    "import wikipedia"
   ]
  },
  {
   "cell_type": "code",
   "execution_count": 27,
   "metadata": {},
   "outputs": [
    {
     "data": {
      "text/plain": [
       "['Szczecin',\n",
       " 'Pogoń Szczecin',\n",
       " 'University of Szczecin',\n",
       " 'Port of Szczecin',\n",
       " 'Starków, Szczecin',\n",
       " 'Skoki, Szczecin',\n",
       " 'Wilki Morskie Szczecin',\n",
       " 'Solidarity Szczecin–Goleniów Airport',\n",
       " 'Szczecin Cathedral',\n",
       " 'Kraśnica, Szczecin']"
      ]
     },
     "execution_count": 27,
     "metadata": {},
     "output_type": "execute_result"
    }
   ],
   "source": [
    "wikipedia.search(\"Szczecin\")"
   ]
  },
  {
   "cell_type": "code",
   "execution_count": 28,
   "metadata": {},
   "outputs": [],
   "source": [
    "wiki = wikipedia.page('Szczecin')"
   ]
  },
  {
   "cell_type": "code",
   "execution_count": 29,
   "metadata": {},
   "outputs": [
    {
     "data": {
      "text/plain": [
       "'Szczecin'"
      ]
     },
     "execution_count": 29,
     "metadata": {},
     "output_type": "execute_result"
    }
   ],
   "source": [
    "wiki.title"
   ]
  },
  {
   "cell_type": "code",
   "execution_count": 30,
   "metadata": {},
   "outputs": [
    {
     "data": {
      "text/plain": [
       "'https://en.wikipedia.org/wiki/Szczecin'"
      ]
     },
     "execution_count": 30,
     "metadata": {},
     "output_type": "execute_result"
    }
   ],
   "source": [
    "wiki.url"
   ]
  },
  {
   "cell_type": "code",
   "execution_count": 31,
   "metadata": {},
   "outputs": [],
   "source": [
    "summary = wikipedia.summary(\"Szczecin\")"
   ]
  },
  {
   "cell_type": "code",
   "execution_count": 32,
   "metadata": {},
   "outputs": [
    {
     "data": {
      "text/plain": [
       "\"Szczecin (UK:  SHCHETCH-in, US:  -\\u2060een, Polish: [ˈʂt͡ʂɛt͡ɕin] (listen); German: Stettin [ʃtɛˈtiːn] (listen); Swedish: Stettin [stɛˈtiːn]; Latin: Sedinum or Stetinum) is the capital and largest city of the West Pomeranian Voivodeship in northwestern Poland. Located near the Baltic Sea and the German border, it is a major seaport and Poland's seventh-largest city. As of December 2021, the population was 395,513.Szczecin is located on the river Oder, south of the Szczecin Lagoon and the Bay of Pomerania. The city is situated along the southwestern shore of Dąbie Lake, on both sides of the Oder and on several large islands between the western and eastern branches of the river. Szczecin is adjacent to the town of Police and is the urban centre of the Szczecin agglomeration, an extended metropolitan area that includes communities in the German states of Brandenburg and Mecklenburg-Western Pomerania.\\nSzczecin is the administrative and industrial centre of West Pomeranian Voivodeship and is the site of the University of Szczecin, Pomeranian Medical University, Maritime University, West Pomeranian University of Technology, Szczecin Art Academy, and the see of the Szczecin-Kamień Catholic Archdiocese. The city's historical landmarks include the Szczecin Cathedral, the Pomeranian Dukes' Castle and the National Museum. From 1999 onwards, Szczecin has served as the site of the headquarters of NATO's Multinational Corps Northeast. The city was a candidate for the European Capital of Culture in 2016.\""
      ]
     },
     "execution_count": 32,
     "metadata": {},
     "output_type": "execute_result"
    }
   ],
   "source": [
    "summary"
   ]
  },
  {
   "cell_type": "code",
   "execution_count": 33,
   "metadata": {},
   "outputs": [],
   "source": [
    "content = wiki.content"
   ]
  },
  {
   "cell_type": "code",
   "execution_count": 34,
   "metadata": {},
   "outputs": [
    {
     "data": {
      "text/plain": [
       "'Szczecin (UK:  SHCHETCH-in, US:  -\\u2060een, Polish: [ˈʂt͡ʂɛt͡ɕin] (listen); German: Stettin [ʃtɛˈtiːn] (listen); Swedish: Stettin [stɛˈtiːn]; Latin: Sedinum or Stetinum) is the capital and largest city of the West Pomeranian Voivodeship in northwestern Poland. Located near the Baltic Sea and the German border, it is a major seaport and Poland\\'s seventh-largest city. As of December 2021, the population was 395,513.Szczecin is located on the river Oder, south of the Szczecin Lagoon and the Bay of Pomerania. The city is situated along the southwestern shore of Dąbie Lake, on both sides of the Oder and on several large islands between the western and eastern branches of the river. Szczecin is adjacent to the town of Police and is the urban centre of the Szczecin agglomeration, an extended metropolitan area that includes communities in the German states of Brandenburg and Mecklenburg-Western Pomerania.\\nSzczecin is the administrative and industrial centre of West Pomeranian Voivodeship and is the site of the University of Szczecin, Pomeranian Medical University, Maritime University, West Pomeranian University of Technology, Szczecin Art Academy, and the see of the Szczecin-Kamień Catholic Archdiocese. The city\\'s historical landmarks include the Szczecin Cathedral, the Pomeranian Dukes\\' Castle and the National Museum. From 1999 onwards, Szczecin has served as the site of the headquarters of NATO\\'s Multinational Corps Northeast. The city was a candidate for the European Capital of Culture in 2016.\\n\\n\\n== Name and etymology ==\\nSzczecin and Stettin are the Polish and German equivalents of the same name, which is of Proto-Slavic origin, though the exact etymology is the subject of ongoing research. \\nIn Etymological dictionary of geographical names of Poland, Maria Malec lists 11 theories regarding the origin of the name, including derivations from either: an Old Slavic word for \\'hill peak\\' (Polish: szczyt), the plant fuller\\'s teasel (Polish: szczeć), or the personal name Szczota.Other medieval names for the town are Burstaborg (in the Knytlinga saga) and Burstenburgh (in the Annals of Waldemar). These names, which literally mean \\'brush burgh\\', are likely derived from the translation of the city\\'s Slavic name (assuming derivation No. 2 for that).\\n\\n\\n== History ==\\n\\n\\n=== Middle Ages ===\\n\\nThe recorded history of Szczecin began in the eighth century, as Vikings and West Slavs settled Pomerania. The West Slavs, or Lechites, erected a new stronghold on the site of the modern castle.\\nSince the 9th century, the stronghold was fortified and expanded toward the Oder bank. Mieszko I of Poland took control of Pomerania during the Early Middle Ages and the region became part of Poland in the 10th century. However, already Mieszko II Lambert (1025 ~ 1034) effectively lost control over the area and had to accept German suzerainty over the area of the Oder lagoon. Subsequent Polish rulers, the Holy Roman Empire, and the Liutician federation all aimed to control the territory.After the decline of the neighbouring regional centre Wolin in the 12th century, the city became one of the more important and powerful seaports of the Baltic Sea.In a campaign in the winter of 1121–1122, Bolesław III Wrymouth, the Duke of Poland, gained control of the region, including the city of Szczecin and its stronghold. The Polish ruler initiated Christianization, entrusting this task to Otto of Bamberg, and the inhabitants were Christianised by two missions of Otto in 1124 and 1128. At this time, the first Christian church of Ss Peter and Paul was erected. The Poles\\' minted coins were commonly used in trade in this period. The population of the city at that time is estimated to be at around 5,000–9,000 people.\\n\\nPolish rule ended with Boleslaw\\'s death in 1138. During the Wendish Crusade in 1147, a contingent led by the German margrave Albert the Bear, an enemy of Slavic presence in the region, papal legate, bishop Anselm of Havelberg and Konrad of Meissen besieged the town. There, a Polish contingent supplied by Mieszko III the Old joined the crusaders. However, the citizens had placed crosses around the fortifications, indicating they already had been Christianised. Duke Ratibor I of Pomerania, negotiated the disbanding of the crusading forces.After the Battle of Verchen in 1164, Szczecin duke Bogusław I, Duke of Pomerania became a vassal of the Duchy of Saxony\\'s Henry the Lion. In 1173, Szczecin castellan Wartislaw II, could not resist a Danish attack and became vassal of Denmark. In 1181, Bogusław became a vassal of the Holy Roman Empire. In 1185, Bogusław again became a Danish vassal. Despite falling under foreign suzerainty, local dukes maintained close ties with the fragmented Polish realm, and future Polish monarch Władysław III Spindleshanks stayed at the local court of Duke Bogusław I in 1186, on behalf of his father, Duke of Greater Poland Mieszko III the Old, who also periodically was the High Duke of Poland. Following a conflict between his heirs and Canute VI of Denmark, the settlement was destroyed in 1189, but the fortress was reconstructed and manned with a Danish force in 1190. While the empire restored its superiority over the Duchy of Pomerania in the Battle of Bornhöved in 1227, Szczecin was one of two bridgeheads remaining under Danish control (until 1235; Wolgast until 1241/43 or 1250).In the second half of the 12th century, a group of German tradesmen (\"multus populus Teutonicorum\" from various parts of the Holy Roman Empire) settled in the city around St. Jacob\\'s Church, which was donated in 1180 by Beringer, a trader from Bamberg, and consecrated in 1187. Hohenkrug (now in Szczecin Struga) was the first village in the Duchy of Pomerania that was clearly recorded as German (villa teutonicorum) in 1173. Ostsiedlung accelerated in Pomerania during the 13th century. Duke Barnim I of Pomerania granted Szczecin a local government charter in 1237, separating the German settlement from the Slavic community settled around the St. Nicholas Church in the neighbourhood of Kessin (Polish: Chyzin). In the charter, the Slavs were put under Germanic jurisdiction.\\n\\nWhen Barnim granted Szczecin Magdeburg rights in 1243, part of the Slavic settlement was reconstructed. The duke had to promise to level the burgh in 1249. Most Slavic inhabitants were resettled to two new suburbs north and south of the town.In 1249, Barnim I also granted Magdeburg town privileges to the town of Damm (also known as Altdamm) on the eastern bank of the Oder. Damm merged with neighbouring Szczecin on 15 October 1939 and is now the Dąbie neighbourhood. This town had been built on the site of a former Pomeranian burg, \"Vadam\" or \"Dambe\", which Boleslaw had destroyed during his 1121 campaign.On 2 December 1261, Barnim I allowed Jewish settlement in Szczecin in accordance with the Magdeburg law, in a privilege renewed in 1308 and 1371. The Jewish Jordan family was granted citizenship in 1325, but none of the 22 Jews allowed to settle in the duchy in 1481 lived in the city, and in 1492, all Jews in the duchy were ordered to convert to Christianity or leave – this order remained effective throughout the rest of the Griffin era.In 1273, in Szczecin duke of Poznań and future King of Poland Przemysł II married princess Ludgarda, granddaughter of Barnim I, Duke of Pomerania, in order to strengthen the alliance between the two rulers.Szczecin was part of the federation of Wendish towns, a predecessor of the Hanseatic League, in 1283. The city prospered due to its participation in the Baltic Sea trade, primarily with herring, grain, and timber; craftsmanship also prospered, and more than forty guilds were established in the city. The far-reaching autonomy granted by the House of Griffins was in part reduced when the dukes reclaimed Stettin as their main residence in the late 15th century. The anti-Slavic policies of German merchants and craftsmen intensified in this period, resulting in measures such as bans on people of Slavic descent joining craft guilds, a doubling of customs tax for Slavic merchants, and bans against public usage of their native language. The more prosperous Slavic citizens were forcibly stripped of their possessions, which were then handed over to Germans. In 1514, the guild of tailors added a Wendenparagraph to its statutes, banning Slavs.\\n\\nWhile not as heavily affected by medieval witchhunts as other regions of the empire, there are reports of the burning of three women and one man convicted of witchcraft in 1538.In 1570, during the reign of John Frederick, Duke of Pomerania, a congress was held at Stettin ending the Northern Seven Years\\' War. During the war, Stettin had tended to side with Denmark, while Stralsund tended toward Sweden – as a whole, however, the Duchy of Pomerania tried to maintain neutrality. Nevertheless, a Landtag that had met in Stettin in 1563 introduced a sixfold rise in real estate taxes to finance the raising of a mercenary army for the duchy\\'s defence. Johann Friedrich also succeeded in elevating Stettin to one of only three places allowed to coin money in the Upper Saxon Circle of the Holy Roman Empire, the other two places being Leipzig and Berlin. Bogislaw XIV, who resided in Stettin beginning in 1620, became the sole ruler and Griffin duke when Philipp Julius, Duke of Pomerania died in 1625. Before the Thirty Years\\' War reached Pomerania, the city, as well as the entire duchy, declined economically due to the decrease in importance of the Hanseatic League and a conflict between Stettin and Frankfurt an der Oder.\\n\\n\\n=== 17th to 18th centuries ===\\n\\nFollowing the Treaty of Stettin of 1630, the town (along with most of Pomerania) was allied to and occupied by the Swedish Empire, which managed to keep the western parts of Pomerania after the death of Bogislaw XIV in 1637. From the Peace of Westphalia in 1648, Stettin became the Capital of Swedish Pomerania. Stettin was turned into a major Swedish fortress, which was repeatedly besieged in subsequent wars. The next Treaty of Stettin (1653) did not change this, but due to the downfall of the Swedish Empire after Charles XII, the city went to Prussia in 1720. Instead Stralsund became capital of the last remaining parts of Swedish Pomerania 1720–1815.The city was on the path of Polish forces led by Hetman Stefan Czarniecki moving from Denmark during the Second Northern War. Czarniecki who led his forces to the city, is today mentioned in the Polish anthem, and numerous locations in the city honour his name.\\nWars inhibited the city\\'s economic prosperity, which had undergone a deep crisis during the devastation of the Thirty Years\\' War and was further impeded by the new Swedish-Brandenburg-Prussian frontier, cutting Stettin off from its traditional Farther Pomeranian hinterland. Due to a Plague during the Great Northern War, the city\\'s population dropped from 6,000 people in 1709 to 4,000 in 1711. In 1720, after the Great Northern War, Sweden was forced to cede the city to King Frederick William I of Prussia. Stettin was made the capital city of the Prussian Pomeranian province, since 1815 reorganised as the Province of Pomerania. In 1816, the city had 26,000 inhabitants.The Prussian administration deprived the city of its right to administrative autonomy, abolished guild privileges as well as its status as a staple town, and subsidised manufacturers. Also, colonists were settled in the city, primarily French Huguenots. The French established a prosperous community, greatly contributed to the city\\'s economic revival, and were treated with reluctance by the German burghers and city authorities.\\n\\n\\n=== 19th to 20th centuries ===\\nIn October 1806, during the War of the Fourth Coalition, believing that he was facing a much larger force, and after receiving a threat of harsh treatment of the city, the Prussian commander Lieutenant General Friedrich von Romberg agreed to surrender the city to the French led by General Lasalle. In fact, Lasalle had only 800 men against von Romberg\\'s 5,300 men. In March 1809 Romberg was convicted and sentenced to life imprisonment for giving up Stettin without a fight. In 1809, also Polish troops were stationed in the city, while the French remained until 1813.\\n\\nFrom 1683 to 1812, one Jew was permitted to reside in Stettin, and an additional Jew was allowed to spend a night in the city in case of \"urgent business\". These permissions were repeatedly withdrawn between 1691 and 1716, also between 1726 and 1730 although else the Swedish regulation was continued by the Prussian administration. Only after the Prussian Edict of Emancipation of 11 March 1812, which granted Prussian citizenship to all Jews living in the kingdom, did a Jewish community emerge in Stettin, with the first Jews settling in the town in 1814. Construction of a synagogue started in 1834; the community also owned a religious and a secular school, an orphanage since 1855, and a retirement home since 1893. The Jewish community had between 1,000 and 1,200 members by 1873 and between 2,800 and 3,000 members by 1927–28. These numbers dropped to 2,701 in 1930 and to 2,322 in late 1934.After the Franco Prussian war of 1870–1871, 1,700 French POWs were imprisoned there in deplorable conditions, resulting in the deaths of 600; after the Second World War monuments in their memory were built by the Polish authorities.\\nUntil 1873, Stettin remained a fortress. When part of the defensive structures were levelled, a new neighbourhood, Neustadt (\"New Town\") as well as water pipes, sewerage and drainage, and gas works were built to meet the demands of the growing population.Stettin developed into a major Prussian port and became part of the German Empire in 1871. While most of the province retained its agrarian character, Stettin was industrialised, and its population rose from 27,000 in 1813 to 210,000 in 1900 and 255,500 in 1925. Major industries that flourished in Stettin from 1840 were shipbuilding, chemical and food industries, and machinery construction. Starting in 1843, Stettin became connected to the major German and Pomeranian cities by railways, and the water connection to the Bay of Pomerania was enhanced by the construction of the Kaiserfahrt (now Piast) canal. The city was also a scientific centre; for example, it was home to the Entomological Society of Stettin.\\n\\nOn 20 October 1890, some of the city\\'s Poles created the \"Society of Polish-Catholic Workers\" in the city, one of the first Polish organisations. In 1897, the city\\'s ship works began the construction of the pre-dreadnought battleship Kaiser Wilhelm der Grosse. In 1914, before World War I, the Polish community in the city numbered over 3,000 people, contributing about 2% of the population. These were primarily industrial workers and their families who came from the Poznań (Posen) area and a few local wealthy industrialists and merchants. Among them was Kazimierz Pruszak, director of the Gollnow industrial works and a Polish patriot, who predicted the eventual \"return\" of Szczecin to Poland.During the interwar period, Stettin was Weimar Germany\\'s largest port on the Baltic Sea, and her third-largest port after Hamburg and Bremen. Cars of the Stoewer automobile company were produced in Stettin from 1899 to 1945. By 1939, the Reichsautobahn Berlin–Stettin was completed.Stettin played a major role as an entrepôt in the development of the Scottish herring trade with the Continent, peaking at an annual export of more than 400,000 barrels in 1885, 1894 and 1898. Trade flourished until the outbreak of the First World War and resumed on a reduced scale during the years between the wars.In the March 1933 German elections to the Reichstag, the Nazis and German nationalists from the German National People\\'s Party (or DNVP) won most of the votes in the city, together winning 98,626 of 165,331 votes (59.3%), with the NSDAP getting 79,729 (47.9%) and the DNVP 18,897 (11.4%).In 1935, the Wehrmacht made Stettin the headquarters for Wehrkreis II, which controlled the military units in all of Mecklenburg and Pomerania. It was also the area headquarters for units stationed at Stettin I and II; Swinemünde (Świnoujście); Greifswald; and Stralsund.\\nIn the interwar period, the Polish minority numbered 2,000 people, less than 1% of the cities population at that time. A number of Poles were members of the Union of Poles in Germany (ZPN), which was active in the city from 1924. A Polish consulate was located in the city between 1925 and 1939. On the initiative of the consulate and ZPN activist Maksymilian Golisz, a number of Polish institutions were established, e.g., a Polish Scout team and a Polish school. German historian Musekamp writes, \"however, only very few Poles were active in these institutions, which for the most part were headed by employees of the [Polish] consulate.\" The withdrawal of the consulate from these institutions led to a general decline of these activities, which were in part upheld by Golisz and Aleksander Omieczyński. Intensified repressions by the Nazis, who exaggerated the Polish activities to propagate an infiltration, led to the closing of the school. In 1938, the head of Szczecin\\'s Union of Poles unit, Stanisław Borkowski, was imprisoned in Oranienburg. In 1939, all Polish organisations in Stettin were disbanded by the German authorities. Golisz and Omieczyński were murdered during the war. After the defeat of Nazi Germany, a street was named after Golisz. According to German historian Jan Musekamp, the activities of the Polish pre-war organizations were exaggerated after World War II for propaganda purposes.\\n\\n\\n==== World War II ====\\nDuring World War II, Stettin was the base for the German 2nd Motorised Infantry Division, which cut across the Polish Corridor and was later used in 1940 as an embarkation point for Operation Weserübung, Germany\\'s assault on Denmark and Norway.On 15 October 1939, neighbouring municipalities were joined to Stettin, creating Groß-Stettin, with about 380,000 inhabitants, in 1940. The city had become the third-largest German city by area, after Berlin and Hamburg.As the war started, the number of non-Germans in the city increased as slave workers were brought in. The first transports came in 1939 from Bydgoszcz, Toruń and Łódź. They were mainly used in a synthetic silk factory near Stettin. The next wave of slave workers was brought in 1940, in addition to PoWs who were used for work in the agricultural industry. According to German police reports from 1940, 15,000 Polish slave workers lived within the city.During the war, 135 forced labour camps for slave workers were established in the city. Most of the 25,000 slave workers were Poles, but Czechs, Italians, Frenchmen and Belgians, as well as Dutch citizens, were also enslaved in the camps. A Nazi prison was also operated in the city, with forced labour subcamps in the region.\\n\\nIn February 1940, the Jews of Stettin were deported to the Lublin reservation. International press reports emerged, describing how the Nazis forced Jews, regardless of age, condition and gender, to sign away all property and loaded them onto trains headed to the camp, escorted by members of the SA and SS. Due to publicity given to the event, German institutions ordered such future actions to be made in a way unlikely to attract public notice. The action was the first deportation of Jews from prewar territory in Nazi Germany.Allied air raids in 1944 and heavy fighting between the German and Soviet armies destroyed 65% of Stettin\\'s buildings and almost all of the city centre, the seaport, and local industries. Polish Home Army intelligence assisted in pinpointing targets for Allied bombing in the area of Stettin. The city itself was covered by the Home Army\\'s \"Bałtyk\" structure, and Polish resistance infiltrated Stettin\\'s naval yards. Other activities of the resistance consisted of smuggling people to Sweden.The Soviet Red Army captured the city on 26 April 1945. While the majority of the almost 400,000 inhabitants had left the city, between 6,000 and 20,000 inhabitants remained in late April.\\n\\nOn 28 April 1945 Polish authorities tried to gain control, but in the following month, the Polish administration was twice forced to leave. Finally the permanent handover occurred on 5 July 1945. In the meantime, part of the German population had returned, believing it might become part of the Soviet occupation zone of Germany. The Soviet authorities had already appointed the German Communists Erich Spiegel and Erich Wiesner as mayors. Stettin is located mostly west of the Oder river, which was expected to become Poland\\'s new western border, placing Stettin in East Germany. This would have been in accordance with the Potsdam Agreement between the victorious Allied Powers, which envisaged the new border to be in \"a line running from the Baltic Sea immediately west of Swinemünde, and thence along the Oder River[...]\". Because of the returnees, the German population of the town swelled to 84,000. The mortality rate was at 20%, primarily due to starvation. However, Stettin and the mouth of the Oder River became Polish on 5 July 1945, as had been decided in a treaty signed on 26 July 1944 between the Soviet Union and the Soviet-controlled Polish Committee of National Liberation (PKWN) (also known as \"the Lublin Poles\", as contrasted with the London-based Polish government-in-exile). On 4 October 1945, the decisive land border of Poland was established west of the 1945 line, and the city was renamed to its historic Polish name Szczecin, but the area excluded the Police area, the Oder river itself, and the port of Szczecin, which remained under Soviet administration. The Oder river was handed over to Polish administration in September 1946, followed by the port between February 1946 and May 1954.\\n\\n\\n==== Post-war ====\\n\\nWhile in 1945 the number of pre-war inhabitants dropped to 57,215 on 31 October 1945, the systematic expulsion of Germans started on 22 February 1946 and continued until late 1947, in accordance with the Potsdam Agreement. In December 1946 about 17,000 German inhabitants remained, while the number of Poles living in the city reached 100,000. To ease the tensions between settlers from different regions, and help overcome fear caused by the continued presence of the Soviet troops, a special event was organised in April 1946 with 50,000 visitors in the partly destroyed city centre. Settlers from Central Poland made up about 70% of Szczecin\\'s new population. In addition to Poles, Ukrainians from Polish areas annexed by the Soviet Union settled there. Also Poles repatriated from Harbin, China and Greeks, refugees of the Greek Civil War, settled in Szczecin in the following years. In 1945 and 1946, the city was the starting point of the northern route used by the Jewish underground organisation Brichah to channel Jewish displaced persons from Central and Eastern Europe to the American occupation zone.\\n\\nSzczecin was rebuilt, and the city\\'s industry was expanded. At the same time, Szczecin became a major Polish industrial centre and an important seaport (particularly for Silesian coal) for Poland, Czechoslovakia, and East Germany. Cultural expansion was accompanied by a campaign resulting in the \"removal of all German traces\". In 1946, Winston Churchill prominently mentioned the city in his Iron Curtain speech: \"From Stettin in the Baltic to Trieste in the Adriatic an iron curtain has descended across the Continent\".The city witnessed anti-communist revolts in 1956, 1970 and 1980. On August 30, 1980, first of the four August Agreements, which led to the first legalisation of the trade union Solidarity, was signed in Szczecin. The introduction of martial law in December 1981 met with a strike by the dockworkers of Szczecin shipyard, joined by other factories and workplaces in a general strike. All these were suppressed by the authorities. Pope John Paul II visited the city on 11 June 1987. Another wave of strikes in Szczecin broke out in 1988 and 1989, which eventually led to the Round Table Agreement and first semi-free elections in post-war Poland.\\nSzczecin has been the capital of the West Pomeranian Voivodeship since 1999.\\n\\n\\n== Geography ==\\n\\n\\n=== Climate ===\\nSzczecin has an oceanic climate (Köppen: Cfb) with some humid continental (Dfb) characteristics in normal not updated, typical of Western Pomerania. The winters are colder than on the immediate coast and the summers are warm, but still with some moderation, especially due to the Baltic Sea.The average air temperature in Szczecin ranges from 8 to 8.4 °C. The hottest month is July with a temperature of 15.8 °C to 20.3 °C, the coldest January from -4.1 °C to 2.6 °C. Air temperature below 0 °C occurs on average over 86 days a year, most frequently in January and February. The average annual rainfall is 537 mm, the average rainfall in the cool half-year is 225 mm, and in the warmer half-year is 350 mm. On average, 167 days with precipitation occurs.\\n\\nSee or edit raw graph data.\\n\\n\\n=== Architecture and urban planning ===\\nSzczecin\\'s architectural style is due to trends popular in the last half of the 19th century and the first years of the 20th century: Academic art and Art Nouveau. In many areas built after 1945, especially in the city centre, which had been destroyed due to Allied bombing, social realism is prevalent.\\n\\nThe city has an abundance of green areas: parks and avenues – wide streets with trees planted in the island separating opposing traffic (where often tram tracks are laid); and roundabouts. Szczecin\\'s city plan resembles that of Paris, mostly because Szczecin was rebuilt in the 1880s according to a design by Georges-Eugène Haussmann, who had redesigned Paris under Napoléon III. This pattern of street design is still used in Szczecin, as many recently built (or modified) city areas include roundabouts and avenues.\\n\\nDuring the city\\'s reconstruction in the aftermath of World War II, the communist authorities of Poland wanted the city\\'s architecture to reflect an old Polish Piast era. Since no buildings from that time existed, instead Gothic as well as Renaissance buildings were picked as worthy of conservation. The motivation behind this decision was that Renaissance architecture was used by the Griffin dynasty, which had Lechitic and West Slavic roots and was seen to be of Piast extraction by some historians. This view was manifested, for example, by erecting respective memorials, and the naming of streets and enterprises, while German traces were replaced by symbols of three main categories: Piasts, the martyrdom of Poles, and gratitude to the Soviet and Polish armies which had ended the Nazi atrocities against Polish citizens.The ruins of the former Griffin residence, initially renamed \"Piast Palace\", also played a central role in this concept and were reconstructed in Renaissance style, with all traces of later eras removed. In general, post-Renaissance buildings, especially those from the 19th and early 20th centuries, were deemed unworthy of conservation until the 1970s, and were in part used in the \"Bricks for Warsaw\" campaign (an effort to rebuild Warsaw after it had been systematically razed following the Warsaw Uprising): with 38 million bricks, Szczecin became Poland\\'s largest brick supplier. The Old Town was rebuilt in the late 1990s, with new buildings, some of which were reconstructions of buildings destroyed in World War II.\\nThe Gothic monuments preserved to this day are parts of European Route of Brick Gothic, along with monuments of other Pomeranian cities, e.g. Stargard, Kamień Pomorski, Sławno and Chełmno.\\nA portion of the Szczecin Landscape Park in the forest of Puszcza Bukowa lies within Szczecin\\'s boundaries.\\nSzczecin contains 28 extant historic water pumps, known as Szczecin pumps or Berliners, which are a popular tourist attraction due to their colorful and intricate design.\\n\\n\\n=== Municipal administration ===\\n\\nThe city is administratively divided into districts (Polish: dzielnica), which are further divided into smaller neighbourhoods. The governing bodies of the latter serve the role of auxiliary local government bodies called Neighbourhood Councils (Polish: Rady Osiedla). Elections for neighbourhood councils are held up to six months after each City Council election. Voter turnout is rather low (on 20 May 2007 it ranged from 1.03% to 27.75% and was 3.78% on average). Councillors are responsible mostly for small infrastructure like trees, park benches, playgrounds, etc. Other functions are mostly advisory.\\n\\nDzielnica Śródmieście (City Centre) includes: Centrum, Drzetowo-Grabowo, Łękno, Międzyodrze-Wyspa Pucka, Niebuszewo-Bolinko, Nowe Miasto, Stare Miasto, Śródmieście-Północ, Śródmieście-Zachód, Turzyn.\\nDzielnica Północ (North) includes: Bukowo, Golęcino-Gocław, Niebuszewo, Skolwin, Stołczyn, Warszewo, Żelechowa.\\nDzielnica Zachód (West) includes: Arkońskie-Niemierzyn, Głębokie-Pilchowo, Gumieńce, Krzekowo-Bezrzecze, Osów, Pogodno, Pomorzany, Świerczewo, Zawadzkiego-Klonowica.\\nDzielnica Prawobrzeże (Right-Bank) includes: Bukowe-Klęskowo, Dąbie, Kijewo, Osiedle Majowe, Osiedle Słoneczne, Płonia-Śmierdnica-Jezierzyce, Podjuchy, Wielgowo-Sławociesze, Załom, Zdroje, Żydowce-Klucz.\\n\\n\\n=== Other historical neighbourhoods ===\\nBabin, Barnucin, Basen Górniczy, Błędów, Boleszyce, Bystrzyk, Cieszyce, Cieśnik, Dolina, Drzetowo, Dunikowo, Glinki, Grabowo, Jezierzyce, Kaliny, Kępa Barnicka, Kijewko, Kluczewko, Kłobucko, Kniewo, Kraśnica, Krzekoszów, Lotnisko, Łasztownia, Niemierzyn, Odolany, Oleszna, Podbórz, Port, os.Przyjaźni, Rogatka, Rudnik, Sienna, Skoki, Słowieńsko, Sosnówko, Starków, Stoki, Struga, Śmierdnica, os.Świerczewskie, Trzebusz, Urok, Widok, Zdunowo.\\n\\n\\n== Demographics ==\\nSince the 12th-century Christianization of the city, the majority of the population were Catholics, then since the Renaissance era, up to the end of World War II, the vast majority of the population were Lutheran Protestants, and since 1945, the majority are again Catholics. Historically, the number of inhabitants doubled from 6,081 in 1720, to 12,360 in 1740, and reached 21,255 in 1812, with only 476 Catholics and 5 Jews. By 1852 the population was 48,028, and 58,487 ten years later (1861), including 1,065 Catholics and 1,438 Jews. In 1885, it was 99,543, and by 1905 it ballooned to 224,119 settlers (incl. the military), among them 209,152 Protestants, 8,635 Catholics and 3,010 Jews. In 1939, the number of inhabitants reached 268,421 persons according to German sources including 233,424 Protestants, 10,845 Catholics, and 1,102 Jews. The current population of Szczecin by comparison was 406,427 in 2009. Following the Revolution of Dignity, Szczecin, much like most other major urban centers in Poland, saw an unprecedented influx of foreign nationals, an overwhelming majority of them Ukrainians; in July 2017 26 thousand of them were officially registered as living and working in Szczecin, with unofficial estimates going as high as 50 thousand, thus making up more than 10% of the city\\'s inhabitants.\\nNumber of inhabitants over the centuries\\n\\n\\n== Politics ==\\nRecently, the city has favoured the centre right Civic Platform. Nearly two-thirds (64.54%) of votes cast in the second round of the 2010 presidential election went to the Civic Platform\\'s Bronisław Komorowski, and in the following year\\'s Polish parliamentary election the party won 46.75% of the vote in the Szczecin constituency with Law and Justice second garnering 21.66% and Palikot\\'s Movement third with 11.8%.\\n\\n\\n=== Members of European Parliament (MEPs) from Szczecin ===\\nSławomir Nitras, PO, former MP in the Polish lower house of Parliament.\\nBogusław Liberadzki, SLD-UP, economist, former Minister of Transport.\\nMarek Gróbarczyk, PiS, engineer and manager, Minister of Maritime Economy.\\n\\n\\n== Museums and galleries ==\\n\\nNational Museum in Szczecin (Polish Muzeum Narodowe w Szczecinie) is the largest cultural institution in the West Pomeranian Voivodeship. It has branches:\\nThe Main Building of Muzeum Narodowe w Szczecinie, Wały Chrobrego 3 Street.\\nSzczecin\\'s History Museum (Polish Muzeum Historii Szczecina) in the Old Town Hall, Szczecin, Księcia Mściwoja II Street.\\nThe Old Art Gallery of the National Museum, Staromłyńska Street 27.\\nThe Museum of Contemporary Art, Staromłyńska 1 Street.\\nThe Narrow Gauge Railway Exhibition in Gryfice\\nPlanned investments: Dialogue Center Breakthroughs (Polish Centrum Dialogu Przełomy) and Maritime Science Centre (Polish Muzeum Morskie – Centrum Nauki).\\nLiterature Museum (Polish Muzeum Literatury)\\nEUREKA – the miracles of science.\\nThe Castle Museum (Polish Muzeum Zamkowe) in the Pomeranian Dukes\\' Castle, Szczecin.\\nMuseum of Technology and Communication – Art Depot (Polish Muzeum Techniki i Komunikacji – Zajezdnia Sztuki).\\n\\n\\n== Arts and entertainment ==\\n\\nThere are a few theatres and cinemas in Szczecin:\\n\\nThe Castle Cinema (Polish Kino Zamek)\\nPionier 1909 Cinema (Polish Kino Pionier 1909)\\nKana Theatre (Polish Teatr Kana)\\nModern Theatre (Polish Teatr Współczesny)\\nOpera in the Castle (Polish Opera na Zamku)\\nPolish Theatre in Szczecin (Polish Teatr Polski w Szczecinie\\nThe Cellar by the Vault Cabaret (Polish Kabaret Piwnica przy Krypcie)\\nThe Crypt Theatre (Polish Teatr Krypta)\\nThe Pleciuga Puppetry Theatre (Polish Teatr Lalek Pleciuga)\\nThe Niema Theatre (Polish Teatr Niema)\\nSzczecin Philharmonicand many historic places as:\\n\\nBismarck tower Szczecin\\n(ruins of) The Quistorp\\'s Tower (Polish Wieża Quistorpa)\\nNapoleon mound (at the intersection of Klonowica Street and Unii Lubelskiej Street)The statue, Monument of Sailor stands at the Grunwald Square at John Paul II Avenue.\\n\\n\\n== Local cuisine ==\\n\\nThe local cuisine in Szczecin was mostly shaped in the mid-20th century by people who settled in the city from other parts and regions of Poland, including the former Eastern Borderlands. The most renowned dishes of the area are pasztecik szczeciński and paprykarz szczeciński. Other local traditional foods and drinks include Szczecin gingerbread and beer.\\nPasztecik szczeciński is a deep-fried yeast dough stuffed with meat or vegetarian filling, served in specialised bars as a fast food. The first bar serving pasztecik szczeciński, Bar \"Pasztecik\", founded in 1969, is located on Wojska Polskiego Avenue 46 in the centre of Szczecin. Pasztecik szczeciński is usually served with clear borscht.Paprykarz szczeciński is a paste made by mixing fish paste (around 50%) with rice, onion, tomato concentrate, vegetable oil, salt and a mixture of spices including chili powder to put it on a sandwich. It is available in most grocery stores in the country.\\n\\nSzczecin gingerbread (pierniki szczecińskie) is a traditional local gingerbread glazed with chocolate or sugar with decorations mostly referring either to the city\\'s architecture or to maritime motifs.Szczecin beer (piwo szczecińskie) includes various types of traditional local Polish beer: light, amber, and wheat beer. The city\\'s brewing traditions go back over a thousand years.The word \"szczeciński\" or \"szczecińskie\" in the names of the products is an adjective from the name of the city of Szczecin, the place of its origin.\\n\\n\\n== Sports ==\\n\\nThere are many popular professional sports teams in Szczecin area. The most popular sport today is probably football thanks to Pogoń Szczecin. Amateur sports are played by thousands of Szczecin citizens and also in schools of all levels (elementary, secondary, university).\\n\\n\\n=== Professional teams ===\\nPogoń Szczecin – football team, which competes in the Ekstraklasa (country\\'s top division), as of 2022–23\\nWilki Morskie Szczecin – basketball team, which competes in the Polish Basketball League (country\\'s top division), as of 2022–23\\nSandra SPA Pogoń Szczecin – men\\'s handball team playing in the Superliga (top division), as of 2022–23\\nSPR Pogoń Szczecin – women\\'s handball team, three times Polish champions (as of 2022)\\nArkonia Szczecin – football team, which competes in the lower divisions, but played in the top division in the past\\nKS Stal Szczecin – 15 youth and junior teams, 1 senior, being in 4th regional league in the 2008/2009 season\\nPogoń Szczecin – women\\'s football team, playing in the Ekstraliga (top division), as of 2022–23\\nKS Piast Szczecin – women\\'s volleyball team, (Seria A in the 2003/2004 and 2004/2005 seasons)\\nŁącznościowiec Szczecin - women\\'s handball team\\nOSoT Szczecin - trains Polish and foreign pole jumpers\\nSEJK Pogoń Szczecin - sailing team\\nWicher Warszewo – futsal team playing in Środowiskowa Liga Futsalu (Futsal League) – two regional Futsal League: 2nd place in 2006/2007 season – promotion in the first regional Futsal League\\nHusaria Szczecin – American football team playing in Polish American Football League\\nSzczecin Dukes – senior baseball teamAs can be seen above, many teams in Szczecin are named after Pogoń Lwów, a team from the Eastern Borderlands.\\n\\n\\n==== Amateur leagues ====\\nHalowa Amatorska Liga Pilkarska – Hall Amateur Football League\\nHalowa Liga Pilki Noznej – Hall Football League\\nSzczecinska Liga Amatorskiej Koszykowki – Szczecin Amateur Basketball League\\nSzczecinska Amatorska Liga Pilki Siatkowej – Szczecin Amateur Volleyball League – women league, 1st, 2nd and 3rd men league\\nElita Professional Sport – Elita Hall Football League – 1st and 2nd league, futsal cup\\nKaskada Szczecin Rugby Club – club rugby – 7 and 15 league, rugby cup\\n\\n\\n==== Cyclic events ====\\nEvery year in September the men\\'s tennis tournament Pekao Szczecin Open is held in Szczecin. In August, a marathon is organized in Szczecin.\\n\\n\\n== Economy and transport ==\\n\\n\\n=== Air ===\\nSzczecin is served by Solidarity Szczecin–Goleniów Airport, which is 47 kilometres (29 miles) northeast of central Szczecin. There is also a grass airstrip within city limits, the Szczecin-Dąbie Airstrip.\\n\\n\\n=== Trams ===\\n\\nSzczecin has a tram network comprising 12 tram lines serving 95 tram stops and measuring 110.77 km (69 mi) in length. Tram transport is operated by the Tramwaje Szczecińskie (TS).\\nSzczecin\\'s first horse tram opened in 1879, running from Gałczyńskiego Square to Staszica Street. In 1896, the first line using electric traction was opened. By 1900, the horse trams had been entirely replaced by electric trams.\\n\\n\\n=== Buses ===\\n\\nSzczecin has a bus network of 70 bus routes. Bus transport is operated by 4 companies: SPA Dąbie, SPA Klonowica, SPPK and PKS Szczecin.\\nOf all bus routes, 50 lines are designated as normal. At nighttime, Szczecin is served by a night bus network of 16 routes. There are also 7 express bus lines, which do not serve all stops on their route.\\n\\n\\n=== Roads ===\\nThe recently upgraded A6 motorway serves as the southern bypass of the city, and connects to the German A11 autobahn (portions of which are currently undergoing upgrade), from where one can reach Berlin in about 90 minutes (about 150 km (93 mi)). Other important highways are the S3 Expressway, linking Szczecin with the more southern cities of Gorzów Wielkopolski, Zielona Góra and Legnica, and the S6 Expressway, connecting Szczecin with Koszalin (and eventually Gdańsk once the easternmost section is completed). Through intersections with other highways, Szczecin has convenient highway connections with a number of other major Polish cities, such as Poznań, Łódź, Wrocław, Katowice, Warsaw and Kraków. Also planned is the construction of the S10 highway to connect the city with Bydgoszcz, Toruń, Płock and Warsaw.\\n\\n\\n=== Rail ===\\nThe main train station – Szczecin Główny railway station – is situated in the city centre (Kolumba Street). Szczecin has good railway connections with \"Solidarity\" Szczecin–Goleniów Airport and the rest of Poland, e.g., Świnoujście, Kołobrzeg, Poznań, Wrocław, Warsaw and Gdańsk. Szczecin is also connected with Germany (Berlin (Gesundbrunnen) and through Pasewalk to Neubrandenburg and Lübeck), but only by two single-track, non-electrified lines. Because of this, the rail connection between Berlin and Szczecin is much slower and less convenient than one would expect between two European cities of that size and proximity.\\n\\n\\n=== Port ===\\nThe Port of Szczecin is the third largest port in Poland and handles almost 10 million tons of cargo annually (data from 2006). This is a harbour of the Baltic Sea and the Oder river.\\n\\n\\n== Education and science ==\\n\\nUniversity of Szczecin (Polish: Uniwersytet Szczeciński), with 35,000 students; rector: Waldemar Tarczyński\\nWest Pomeranian University of Technology (Polish: Zachodniopomorski Uniwersytet Technologiczny)\\nPomeranian Medical University (Polish: Pomorski Uniwersytet Medyczny)\\nArt Academy of Szczecin (Polish: Akademia Sztuki)\\nMaritime University of Szczecin (Polish: Akademia Morska w Szczecinie)\\nWSB Universities – WSB University in Poznań, departments of Economics\\nThe West Pomeranian Business School (Polish: Zachodniopomorska Szkoła Biznesu)\\nHigher School of Public Administration in Szczecin (Polish: Wyższa Szkoła Administracji Publicznej w Szczecinie)\\nHigh Theological Seminary in Szczecin (Polish: Arcybiskupie Wyższe Seminarium Duchowne w Szczecinie)\\nHigher School of Applied Arts (Polish: Wyższa Szkoła Sztuki Użytkowej)\\nAcademy of European Integration (Polish: Wyższa Szkoła Integracji Europejskiej)\\nWyższa Szkoła Ekonomiczno-Turystyczna\\nWyższa Szkoła Humanistyczna TWP\\nWyższa Szkoła Języków Obcych\\nWyższa Szkoła Techniczno-Ekonomiczna\\nWyższa Szkoła Zawodowa - Collegium Balticum\\nWyższa Szkoła Zawodowa \"OECONOMICUS\" PTE\\nWyższa Szkoła Zarządzania\\nBangor University\\n\\n\\n=== Scientific and regional organisations ===\\nWestern Pomeranian Institute (Polish: Instytut Zachodnio-Pomorski)\\nSzczecin Scientific Society (Polish: Szczecińskie Towarzystwo Naukowe)\\nlocal branches of Polish scientific societies in many disciplines, including Polish Philosophical Society, Polish Historical Society, Polish Philological Society, Polish Mathematical Society, Polish Economic Society, Polish Geographical Society, Polish Copernicus Society of Naturalists, Polish Phytopathological Society, Polish Parasitological Society and many medical societies\\nlocal branches of students\\' societies, e.g., AIESEC, International Federation of Medical Students\\' Associations (IFMSA) and Polish Association of Dental Students\\n\\n\\n== Famous people ==\\n\\nOver the long course of its history Szczecin has been a place of birth and of residence for many famous individuals, including Empress Catherine the Great of Russia, composer Carl Loewe, writer Alfred Döblin, actress Dita Parlo, mathematician Hermann Günther Grassmann, Roman Catholic priest Carl Lampert, poet Konstanty Ildefons Gałczyński, Helena Majdaniec – \"the queen of Polish Twist\", and singer Violetta Villas.\\n\\n\\n== Twin towns – sister cities ==\\n\\nSzczecin is twinned with:\\n\\n\\n== Gallery ==\\n\\n\\t\\t\\n\\t\\t\\n\\t\\t\\n\\t\\t\\n\\t\\t\\n\\t\\t\\n\\t\\t\\n\\t\\t\\n\\t\\t\\n\\t\\t\\n\\t\\t\\n\\t\\t\\n\\t\\t\\n\\t\\t\\n\\t\\t\\n\\t\\t\\n\\t\\t\\n\\n\\n== See also ==\\nTowns near Szczecin: Stargard, Police, Gryfino, Goleniów, Pyrzyce, Cedynia, Chojna, Mieszkowice, Moryń, Trzcińsko-Zdrój, Nowe Warpno, Penkun (Germany), Pasewalk (Germany), Eggesin (Germany), Gartz (Germany)\\nVillages near Szczecin: Kolbacz, Przęsocin, Kołbaskowo\\nSzczecin Lagoon\\nMiędzyodrze-Wyspa Pucka\\nWkrzanska Forest\\nCentral Cemetery in Szczecin\\nOstrów Grabowski, an Oder river island in Szczecin\\nBystry Rów, a stream in Niebuszewo\\n\\n\\n== Notes ==\\n\\n\\n== References ==\\n\\n\\n== Bibliography ==\\n\\nEncyclopedia of Szczecin. Vol. I, A-O. Szczecin: University of Szczecin, 1999. ISBN 83-87341-45-2 (pl).\\nEncyclopedia of Szczecin. Vol. II, P-Ż. Szczecin: University of Szczecin, 2000. ISBN 83-7241-089-5 (pl).\\nJan M. Piskorski, Bogdan Wachowiak, Edward Włodarczyk, A short history of Szczecin, Poznań, 2002. ISBN 83-7063-332-3 (pl).\\nPetre, F. Loraine. Napoleon\\'s Conquest of Prussia 1806. London: Lionel Leventhal Ltd., 1993 (1907). ISBN 1-85367-145-2.\\n(in German) Jan Musekamp: Zwischen Stettin und Szczecin – Metamorphosen einer Stadt von 1945 bis 2001 (Between Stettin and Szczecin – a town\\'s metamorphoses from 1945 to 2005). Wiesbaden, 2010 (restricted online preview), there is also a Polish edition Między Stettinem a Szczecinem. Metamorfoza miasta od 1945 do 2005.\\n(in German) Martin Wehrmann: Geschichte der Stadt Stettin. Stettin, 1911 (reprinted in 1993 by Weltbild Verlag, Augsburg. ISBN 3-89350-119-3).\\n(in German) W. H. Meyer: Stettin in alter und neuer Zeit (Stettin in ancient and modern times). Stettin, 1887.\\n(in German) Gustav Kratz: Die Städte der Provinz Pommern – Abriss ihrer Geschichte, zumeist nach Urkunden (The towns of the Province of Pomerania – Sketch of their history, mostly according to historical records). Berlin, 1865 (reprinted in 2010 by Kessinger Publishing, U.S.A., ISBN 1-161-12969-3), pp. 376–412 (online).\\n(in German) Fr. Thiede: Chronik der Stadt Stettin – Bearbeitet nach Urkunden und bewährtesten historischen Nachrichten (Chronicle of the town of Stettin – Worked out according to documents and reliable historical records). Stettin, 1849 (online).\\n\\n\\n== External links ==\\n\\n Szczecin travel guide from Wikivoyage\\n\\nSzczecin City Official website (in Polish, some material available in English, German)'"
      ]
     },
     "execution_count": 34,
     "metadata": {},
     "output_type": "execute_result"
    }
   ],
   "source": [
    "content"
   ]
  },
  {
   "cell_type": "code",
   "execution_count": 35,
   "metadata": {},
   "outputs": [],
   "source": [
    "import re\n",
    "content_clean = re.sub('[^a-zA-Z]+', ' ', content)"
   ]
  },
  {
   "cell_type": "code",
   "execution_count": 36,
   "metadata": {},
   "outputs": [],
   "source": [
    "content_tokens = content_clean.lower().split()"
   ]
  },
  {
   "cell_type": "code",
   "execution_count": 37,
   "metadata": {},
   "outputs": [
    {
     "data": {
      "text/plain": [
       "['szczecin', 'uk', 'shchetch', 'in', 'us', 'een', 'polish', 't', 't', 'in']"
      ]
     },
     "execution_count": 37,
     "metadata": {},
     "output_type": "execute_result"
    }
   ],
   "source": [
    "content_tokens[0:10]"
   ]
  },
  {
   "cell_type": "markdown",
   "metadata": {},
   "source": [
    "### Challenge: Open the file nltk_stopwords.txt and store it's content in a list called `nltk_stopwords` where each element of the list is a line of the document. Use the method `replace()`  if needed."
   ]
  },
  {
   "cell_type": "code",
   "execution_count": 38,
   "metadata": {},
   "outputs": [],
   "source": [
    "nltk= open(\"input/nltk_stopwords.txt\", mode='r')\n",
    "nltk_stopwords=[element.replace(\"\\n\",\"\") for element in nltk.readlines()]"
   ]
  },
  {
   "cell_type": "code",
   "execution_count": 39,
   "metadata": {},
   "outputs": [
    {
     "data": {
      "text/plain": [
       "'stsetcin'"
      ]
     },
     "execution_count": 39,
     "metadata": {},
     "output_type": "execute_result"
    }
   ],
   "source": [
    "from unidecode import unidecode\n",
    "unidecode(\"ʂt͡ʂɛt͡ɕin\")\n",
    "\n"
   ]
  },
  {
   "cell_type": "code",
   "execution_count": 40,
   "metadata": {},
   "outputs": [],
   "source": [
    "content =unidecode(content)\n"
   ]
  },
  {
   "cell_type": "code",
   "execution_count": 41,
   "metadata": {},
   "outputs": [],
   "source": [
    "def keep_only_letters(text):\n",
    "    cleaned_text = ''.join([char for char in text if char.isalpha() or char.isspace()])\n",
    "    return cleaned_text"
   ]
  },
  {
   "cell_type": "code",
   "execution_count": 42,
   "metadata": {},
   "outputs": [],
   "source": [
    "content = keep_only_letters(content).lower()"
   ]
  },
  {
   "cell_type": "code",
   "execution_count": 43,
   "metadata": {},
   "outputs": [],
   "source": [
    "content_tokens = content.split()"
   ]
  },
  {
   "cell_type": "code",
   "execution_count": 44,
   "metadata": {},
   "outputs": [],
   "source": [
    "stopwords_removed = [word for word in content_tokens if word not in nltk_stopwords and len(word)>3]"
   ]
  },
  {
   "cell_type": "code",
   "execution_count": 45,
   "metadata": {},
   "outputs": [
    {
     "data": {
      "text/plain": [
       "Counter({'szczecin': 118,\n",
       "         'shchetchin': 1,\n",
       "         'polish': 98,\n",
       "         'stsetcin': 1,\n",
       "         'listen': 2,\n",
       "         'german': 38,\n",
       "         'stettin': 48,\n",
       "         'stetin': 2,\n",
       "         'swedish': 7,\n",
       "         'latin': 1,\n",
       "         'sedinum': 1,\n",
       "         'stetinum': 1,\n",
       "         'capital': 6,\n",
       "         'largest': 5,\n",
       "         'city': 64,\n",
       "         'west': 14,\n",
       "         'pomeranian': 17,\n",
       "         'voivodeship': 4,\n",
       "         'northwestern': 1,\n",
       "         'poland': 17,\n",
       "         'located': 5,\n",
       "         'near': 4,\n",
       "         'baltic': 8,\n",
       "         'border': 4,\n",
       "         'major': 9,\n",
       "         'seaport': 3,\n",
       "         'polands': 3,\n",
       "         'seventhlargest': 1,\n",
       "         'december': 4,\n",
       "         'population': 13,\n",
       "         'river': 9,\n",
       "         'oder': 13,\n",
       "         'south': 2,\n",
       "         'lagoon': 3,\n",
       "         'pomerania': 24,\n",
       "         'situated': 2,\n",
       "         'along': 4,\n",
       "         'southwestern': 1,\n",
       "         'shore': 1,\n",
       "         'dabie': 4,\n",
       "         'lake': 1,\n",
       "         'sides': 1,\n",
       "         'several': 1,\n",
       "         'large': 1,\n",
       "         'islands': 1,\n",
       "         'western': 5,\n",
       "         'eastern': 5,\n",
       "         'branches': 4,\n",
       "         'adjacent': 1,\n",
       "         'town': 14,\n",
       "         'police': 4,\n",
       "         'urban': 3,\n",
       "         'centre': 13,\n",
       "         'agglomeration': 1,\n",
       "         'extended': 1,\n",
       "         'metropolitan': 1,\n",
       "         'area': 11,\n",
       "         'includes': 6,\n",
       "         'communities': 1,\n",
       "         'states': 1,\n",
       "         'brandenburg': 1,\n",
       "         'mecklenburgwestern': 1,\n",
       "         'administrative': 2,\n",
       "         'industrial': 4,\n",
       "         'site': 4,\n",
       "         'university': 13,\n",
       "         'medical': 4,\n",
       "         'maritime': 5,\n",
       "         'technology': 3,\n",
       "         'academy': 3,\n",
       "         'szczecinkamien': 1,\n",
       "         'catholic': 2,\n",
       "         'archdiocese': 1,\n",
       "         'citys': 13,\n",
       "         'historical': 5,\n",
       "         'landmarks': 1,\n",
       "         'include': 3,\n",
       "         'cathedral': 1,\n",
       "         'dukes': 5,\n",
       "         'castle': 6,\n",
       "         'national': 5,\n",
       "         'museum': 8,\n",
       "         'onwards': 1,\n",
       "         'served': 5,\n",
       "         'headquarters': 3,\n",
       "         'natos': 1,\n",
       "         'multinational': 1,\n",
       "         'corps': 1,\n",
       "         'northeast': 2,\n",
       "         'candidate': 1,\n",
       "         'european': 5,\n",
       "         'culture': 1,\n",
       "         'name': 8,\n",
       "         'etymology': 2,\n",
       "         'equivalents': 1,\n",
       "         'protoslavic': 1,\n",
       "         'origin': 3,\n",
       "         'though': 1,\n",
       "         'exact': 1,\n",
       "         'subject': 1,\n",
       "         'ongoing': 1,\n",
       "         'research': 1,\n",
       "         'etymological': 1,\n",
       "         'dictionary': 1,\n",
       "         'geographical': 2,\n",
       "         'names': 4,\n",
       "         'maria': 1,\n",
       "         'malec': 1,\n",
       "         'lists': 1,\n",
       "         'theories': 1,\n",
       "         'regarding': 1,\n",
       "         'including': 8,\n",
       "         'derivations': 1,\n",
       "         'either': 2,\n",
       "         'slavic': 10,\n",
       "         'word': 2,\n",
       "         'hill': 1,\n",
       "         'peak': 1,\n",
       "         'szczyt': 1,\n",
       "         'plant': 1,\n",
       "         'fullers': 1,\n",
       "         'teasel': 1,\n",
       "         'szczec': 1,\n",
       "         'personal': 1,\n",
       "         'szczotaother': 1,\n",
       "         'medieval': 2,\n",
       "         'burstaborg': 1,\n",
       "         'knytlinga': 1,\n",
       "         'saga': 1,\n",
       "         'burstenburgh': 1,\n",
       "         'annals': 1,\n",
       "         'waldemar': 2,\n",
       "         'literally': 1,\n",
       "         'mean': 1,\n",
       "         'brush': 1,\n",
       "         'burgh': 2,\n",
       "         'likely': 1,\n",
       "         'derived': 1,\n",
       "         'translation': 1,\n",
       "         'assuming': 1,\n",
       "         'derivation': 1,\n",
       "         'history': 6,\n",
       "         'middle': 2,\n",
       "         'ages': 2,\n",
       "         'recorded': 2,\n",
       "         'began': 2,\n",
       "         'eighth': 1,\n",
       "         'century': 10,\n",
       "         'vikings': 1,\n",
       "         'slavs': 4,\n",
       "         'settled': 7,\n",
       "         'lechites': 1,\n",
       "         'erected': 2,\n",
       "         'stronghold': 3,\n",
       "         'modern': 3,\n",
       "         'since': 9,\n",
       "         'fortified': 1,\n",
       "         'expanded': 2,\n",
       "         'toward': 2,\n",
       "         'bank': 2,\n",
       "         'mieszko': 4,\n",
       "         'took': 1,\n",
       "         'control': 6,\n",
       "         'early': 2,\n",
       "         'region': 4,\n",
       "         'became': 14,\n",
       "         'part': 11,\n",
       "         'however': 5,\n",
       "         'already': 3,\n",
       "         'lambert': 1,\n",
       "         'effectively': 1,\n",
       "         'lost': 1,\n",
       "         'accept': 1,\n",
       "         'suzerainty': 2,\n",
       "         'subsequent': 2,\n",
       "         'rulers': 1,\n",
       "         'holy': 4,\n",
       "         'roman': 5,\n",
       "         'empire': 9,\n",
       "         'liutician': 1,\n",
       "         'federation': 3,\n",
       "         'aimed': 1,\n",
       "         'territoryafter': 1,\n",
       "         'decline': 2,\n",
       "         'neighbouring': 3,\n",
       "         'regional': 5,\n",
       "         'wolin': 1,\n",
       "         'important': 3,\n",
       "         'powerful': 1,\n",
       "         'seaports': 1,\n",
       "         'seain': 1,\n",
       "         'campaign': 3,\n",
       "         'winter': 1,\n",
       "         'boleslaw': 2,\n",
       "         'wrymouth': 1,\n",
       "         'duke': 14,\n",
       "         'gained': 1,\n",
       "         'ruler': 2,\n",
       "         'initiated': 1,\n",
       "         'christianization': 2,\n",
       "         'entrusting': 1,\n",
       "         'task': 1,\n",
       "         'otto': 2,\n",
       "         'bamberg': 2,\n",
       "         'inhabitants': 11,\n",
       "         'christianised': 2,\n",
       "         'missions': 1,\n",
       "         'time': 5,\n",
       "         'first': 15,\n",
       "         'christian': 1,\n",
       "         'church': 3,\n",
       "         'peter': 1,\n",
       "         'paul': 3,\n",
       "         'poles': 12,\n",
       "         'minted': 1,\n",
       "         'coins': 1,\n",
       "         'commonly': 1,\n",
       "         'used': 8,\n",
       "         'trade': 5,\n",
       "         'period': 4,\n",
       "         'estimated': 1,\n",
       "         'around': 5,\n",
       "         'people': 8,\n",
       "         'rule': 1,\n",
       "         'ended': 2,\n",
       "         'boleslaws': 1,\n",
       "         'death': 2,\n",
       "         'wendish': 2,\n",
       "         'crusade': 1,\n",
       "         'contingent': 2,\n",
       "         'margrave': 1,\n",
       "         'albert': 1,\n",
       "         'bear': 1,\n",
       "         'enemy': 1,\n",
       "         'presence': 2,\n",
       "         'papal': 1,\n",
       "         'legate': 1,\n",
       "         'bishop': 1,\n",
       "         'anselm': 1,\n",
       "         'havelberg': 1,\n",
       "         'konrad': 1,\n",
       "         'meissen': 1,\n",
       "         'besieged': 2,\n",
       "         'supplied': 1,\n",
       "         'joined': 3,\n",
       "         'crusaders': 1,\n",
       "         'citizens': 4,\n",
       "         'placed': 1,\n",
       "         'crosses': 1,\n",
       "         'fortifications': 1,\n",
       "         'indicating': 1,\n",
       "         'ratibor': 1,\n",
       "         'negotiated': 1,\n",
       "         'disbanding': 1,\n",
       "         'crusading': 1,\n",
       "         'forcesafter': 1,\n",
       "         'battle': 2,\n",
       "         'verchen': 1,\n",
       "         'boguslaw': 5,\n",
       "         'vassal': 4,\n",
       "         'duchy': 7,\n",
       "         'saxonys': 1,\n",
       "         'henry': 1,\n",
       "         'lion': 1,\n",
       "         'castellan': 1,\n",
       "         'wartislaw': 1,\n",
       "         'could': 1,\n",
       "         'resist': 1,\n",
       "         'danish': 4,\n",
       "         'attack': 1,\n",
       "         'denmark': 5,\n",
       "         'despite': 1,\n",
       "         'falling': 1,\n",
       "         'foreign': 3,\n",
       "         'local': 13,\n",
       "         'maintained': 1,\n",
       "         'close': 1,\n",
       "         'ties': 1,\n",
       "         'fragmented': 1,\n",
       "         'realm': 1,\n",
       "         'future': 3,\n",
       "         'monarch': 1,\n",
       "         'wladyslaw': 1,\n",
       "         'spindleshanks': 1,\n",
       "         'stayed': 1,\n",
       "         'court': 1,\n",
       "         'behalf': 1,\n",
       "         'father': 1,\n",
       "         'greater': 1,\n",
       "         'also': 23,\n",
       "         'periodically': 1,\n",
       "         'high': 3,\n",
       "         'following': 7,\n",
       "         'conflict': 2,\n",
       "         'heirs': 1,\n",
       "         'canute': 1,\n",
       "         'settlement': 4,\n",
       "         'destroyed': 6,\n",
       "         'fortress': 3,\n",
       "         'reconstructed': 3,\n",
       "         'manned': 1,\n",
       "         'force': 2,\n",
       "         'restored': 1,\n",
       "         'superiority': 1,\n",
       "         'bornhoved': 1,\n",
       "         'bridgeheads': 1,\n",
       "         'remaining': 2,\n",
       "         'wolgast': 1,\n",
       "         'second': 5,\n",
       "         'half': 2,\n",
       "         'group': 1,\n",
       "         'tradesmen': 1,\n",
       "         'multus': 1,\n",
       "         'populus': 1,\n",
       "         'teutonicorum': 2,\n",
       "         'various': 2,\n",
       "         'parts': 5,\n",
       "         'jacobs': 1,\n",
       "         'donated': 1,\n",
       "         'beringer': 1,\n",
       "         'trader': 1,\n",
       "         'consecrated': 1,\n",
       "         'hohenkrug': 1,\n",
       "         'struga': 2,\n",
       "         'village': 1,\n",
       "         'clearly': 1,\n",
       "         'villa': 1,\n",
       "         'ostsiedlung': 1,\n",
       "         'accelerated': 1,\n",
       "         'barnim': 5,\n",
       "         'granted': 6,\n",
       "         'government': 2,\n",
       "         'charter': 2,\n",
       "         'separating': 2,\n",
       "         'community': 6,\n",
       "         'nicholas': 1,\n",
       "         'neighbourhood': 5,\n",
       "         'kessin': 1,\n",
       "         'chyzin': 1,\n",
       "         'germanic': 1,\n",
       "         'jurisdiction': 1,\n",
       "         'magdeburg': 3,\n",
       "         'rights': 1,\n",
       "         'promise': 1,\n",
       "         'level': 1,\n",
       "         'resettled': 1,\n",
       "         'suburbs': 1,\n",
       "         'north': 2,\n",
       "         'townin': 1,\n",
       "         'privileges': 2,\n",
       "         'damm': 2,\n",
       "         'known': 3,\n",
       "         'altdamm': 1,\n",
       "         'merged': 1,\n",
       "         'october': 6,\n",
       "         'built': 5,\n",
       "         'former': 5,\n",
       "         'burg': 1,\n",
       "         'vadam': 1,\n",
       "         'dambe': 1,\n",
       "         'campaignon': 1,\n",
       "         'allowed': 4,\n",
       "         'jewish': 6,\n",
       "         'accordance': 3,\n",
       "         'privilege': 1,\n",
       "         'renewed': 1,\n",
       "         'jordan': 1,\n",
       "         'family': 1,\n",
       "         'citizenship': 2,\n",
       "         'none': 1,\n",
       "         'jews': 11,\n",
       "         'settle': 1,\n",
       "         'lived': 2,\n",
       "         'ordered': 2,\n",
       "         'convert': 1,\n",
       "         'christianity': 1,\n",
       "         'leave': 2,\n",
       "         'order': 2,\n",
       "         'remained': 6,\n",
       "         'effective': 1,\n",
       "         'throughout': 1,\n",
       "         'rest': 2,\n",
       "         'griffin': 4,\n",
       "         'erain': 1,\n",
       "         'poznan': 6,\n",
       "         'king': 2,\n",
       "         'przemysl': 1,\n",
       "         'married': 1,\n",
       "         'princess': 1,\n",
       "         'ludgarda': 1,\n",
       "         'granddaughter': 1,\n",
       "         'strengthen': 1,\n",
       "         'alliance': 1,\n",
       "         'rulersszczecin': 1,\n",
       "         'towns': 5,\n",
       "         'predecessor': 1,\n",
       "         'hanseatic': 2,\n",
       "         'league': 17,\n",
       "         'prospered': 2,\n",
       "         'participation': 1,\n",
       "         'primarily': 4,\n",
       "         'herring': 2,\n",
       "         'grain': 1,\n",
       "         'timber': 1,\n",
       "         'craftsmanship': 1,\n",
       "         'forty': 1,\n",
       "         'guilds': 2,\n",
       "         'established': 5,\n",
       "         'farreaching': 1,\n",
       "         'autonomy': 2,\n",
       "         'house': 2,\n",
       "         'griffins': 1,\n",
       "         'reduced': 2,\n",
       "         'reclaimed': 1,\n",
       "         'main': 4,\n",
       "         'residence': 3,\n",
       "         'late': 5,\n",
       "         'antislavic': 1,\n",
       "         'policies': 1,\n",
       "         'merchants': 3,\n",
       "         'craftsmen': 1,\n",
       "         'intensified': 2,\n",
       "         'resulting': 3,\n",
       "         'measures': 1,\n",
       "         'bans': 2,\n",
       "         'descent': 1,\n",
       "         'joining': 1,\n",
       "         'craft': 1,\n",
       "         'doubling': 1,\n",
       "         'customs': 1,\n",
       "         'public': 3,\n",
       "         'usage': 1,\n",
       "         'native': 1,\n",
       "         'language': 1,\n",
       "         'prosperous': 2,\n",
       "         'forcibly': 1,\n",
       "         'stripped': 1,\n",
       "         'possessions': 1,\n",
       "         'handed': 2,\n",
       "         'germans': 2,\n",
       "         'guild': 2,\n",
       "         'tailors': 1,\n",
       "         'added': 1,\n",
       "         'wendenparagraph': 1,\n",
       "         'statutes': 1,\n",
       "         'banning': 1,\n",
       "         'heavily': 1,\n",
       "         'affected': 1,\n",
       "         'witchhunts': 1,\n",
       "         'regions': 3,\n",
       "         'reports': 3,\n",
       "         'burning': 1,\n",
       "         'three': 4,\n",
       "         'women': 2,\n",
       "         'convicted': 2,\n",
       "         'witchcraft': 1,\n",
       "         'reign': 1,\n",
       "         'john': 3,\n",
       "         'frederick': 2,\n",
       "         'congress': 1,\n",
       "         'held': 3,\n",
       "         'ending': 1,\n",
       "         'northern': 5,\n",
       "         'seven': 1,\n",
       "         'years': 8,\n",
       "         'tended': 2,\n",
       "         'side': 1,\n",
       "         'stralsund': 3,\n",
       "         'sweden': 2,\n",
       "         'whole': 1,\n",
       "         'tried': 2,\n",
       "         'maintain': 1,\n",
       "         'neutrality': 1,\n",
       "         'nevertheless': 1,\n",
       "         'landtag': 1,\n",
       "         'introduced': 1,\n",
       "         'sixfold': 1,\n",
       "         'rise': 1,\n",
       "         'real': 1,\n",
       "         'estate': 1,\n",
       "         'taxes': 1,\n",
       "         'finance': 1,\n",
       "         'raising': 1,\n",
       "         'mercenary': 1,\n",
       "         'army': 3,\n",
       "         'duchys': 1,\n",
       "         'defence': 1,\n",
       "         'johann': 1,\n",
       "         'friedrich': 2,\n",
       "         'succeeded': 1,\n",
       "         'elevating': 1,\n",
       "         'places': 3,\n",
       "         'coin': 1,\n",
       "         'money': 1,\n",
       "         'upper': 1,\n",
       "         'saxon': 1,\n",
       "         'circle': 1,\n",
       "         'leipzig': 1,\n",
       "         'berlin': 6,\n",
       "         'bogislaw': 2,\n",
       "         'resided': 1,\n",
       "         'beginning': 1,\n",
       "         'sole': 1,\n",
       "         'philipp': 1,\n",
       "         'julius': 1,\n",
       "         'died': 1,\n",
       "         'thirty': 2,\n",
       "         'reached': 4,\n",
       "         'well': 5,\n",
       "         'entire': 1,\n",
       "         'declined': 1,\n",
       "         'economically': 1,\n",
       "         'decrease': 1,\n",
       "         'importance': 1,\n",
       "         'frankfurt': 1,\n",
       "         'centuries': 4,\n",
       "         'treaty': 3,\n",
       "         'allied': 4,\n",
       "         'occupied': 1,\n",
       "         'managed': 1,\n",
       "         'keep': 1,\n",
       "         'peace': 1,\n",
       "         'westphalia': 1,\n",
       "         'turned': 1,\n",
       "         'repeatedly': 2,\n",
       "         'wars': 2,\n",
       "         'next': 2,\n",
       "         'change': 1,\n",
       "         'downfall': 1,\n",
       "         'charles': 1,\n",
       "         'went': 2,\n",
       "         'prussia': 3,\n",
       "         'instead': 2,\n",
       "         'last': 2,\n",
       "         'path': 1,\n",
       "         'forces': 2,\n",
       "         'hetman': 1,\n",
       "         'stefan': 1,\n",
       "         'czarniecki': 2,\n",
       "         'moving': 1,\n",
       "         'today': 2,\n",
       "         'mentioned': 2,\n",
       "         'anthem': 1,\n",
       "         'numerous': 1,\n",
       "         'locations': 1,\n",
       "         'honour': 1,\n",
       "         'inhibited': 1,\n",
       "         'economic': 3,\n",
       "         'prosperity': 1,\n",
       "         'undergone': 1,\n",
       "         'deep': 1,\n",
       "         'crisis': 1,\n",
       "         'devastation': 1,\n",
       "         'impeded': 1,\n",
       "         'swedishbrandenburgprussian': 1,\n",
       "         'frontier': 1,\n",
       "         'cutting': 1,\n",
       "         'traditional': 4,\n",
       "         'farther': 1,\n",
       "         'hinterland': 1,\n",
       "         'plague': 1,\n",
       "         'great': 3,\n",
       "         'dropped': 3,\n",
       "         'forced': 5,\n",
       "         'cede': 1,\n",
       "         'william': 1,\n",
       "         'made': 5,\n",
       "         'prussian': 8,\n",
       "         'province': 4,\n",
       "         'reorganised': 1,\n",
       "         'inhabitantsthe': 1,\n",
       "         'administration': 7,\n",
       "         'deprived': 1,\n",
       "         'right': 2,\n",
       "         'abolished': 1,\n",
       "         'status': 1,\n",
       "         'staple': 1,\n",
       "         'subsidised': 1,\n",
       "         'manufacturers': 1,\n",
       "         'colonists': 1,\n",
       "         'french': 5,\n",
       "         'huguenots': 1,\n",
       "         'greatly': 1,\n",
       "         'contributed': 1,\n",
       "         'revival': 1,\n",
       "         'treated': 1,\n",
       "         'reluctance': 1,\n",
       "         'burghers': 1,\n",
       "         'authorities': 7,\n",
       "         'fourth': 1,\n",
       "         'coalition': 1,\n",
       "         'believing': 2,\n",
       "         'facing': 1,\n",
       "         'much': 3,\n",
       "         'larger': 1,\n",
       "         'receiving': 1,\n",
       "         'threat': 1,\n",
       "         'harsh': 1,\n",
       "         'treatment': 1,\n",
       "         'commander': 1,\n",
       "         'lieutenant': 1,\n",
       "         'general': 5,\n",
       "         'romberg': 2,\n",
       "         'agreed': 1,\n",
       "         'surrender': 1,\n",
       "         'lasalle': 2,\n",
       "         'fact': 1,\n",
       "         'rombergs': 1,\n",
       "         'march': 3,\n",
       "         'sentenced': 1,\n",
       "         'life': 1,\n",
       "         'imprisonment': 1,\n",
       "         'giving': 1,\n",
       "         'without': 1,\n",
       "         'fight': 1,\n",
       "         'troops': 2,\n",
       "         'stationed': 2,\n",
       "         'permitted': 1,\n",
       "         'reside': 1,\n",
       "         'additional': 1,\n",
       "         'spend': 1,\n",
       "         'night': 2,\n",
       "         'case': 1,\n",
       "         'urgent': 1,\n",
       "         'business': 2,\n",
       "         'permissions': 1,\n",
       "         'withdrawn': 1,\n",
       "         'although': 1,\n",
       "         'else': 1,\n",
       "         'regulation': 1,\n",
       "         'continued': 3,\n",
       "         'edict': 1,\n",
       "         'emancipation': 1,\n",
       "         'living': 3,\n",
       "         'kingdom': 1,\n",
       "         'emerge': 1,\n",
       "         'settling': 1,\n",
       "         'construction': 5,\n",
       "         'synagogue': 1,\n",
       "         'started': 3,\n",
       "         'owned': 1,\n",
       "         'religious': 1,\n",
       "         'secular': 1,\n",
       "         'school': 6,\n",
       "         'orphanage': 1,\n",
       "         'retirement': 1,\n",
       "         'home': 4,\n",
       "         'members': 5,\n",
       "         'numbers': 1,\n",
       "         'franco': 1,\n",
       "         'pows': 2,\n",
       "         'imprisoned': 2,\n",
       "         'deplorable': 1,\n",
       "         'conditions': 1,\n",
       "         'deaths': 1,\n",
       "         'world': 9,\n",
       "         'monuments': 3,\n",
       "         'memory': 1,\n",
       "         'defensive': 1,\n",
       "         'structures': 1,\n",
       "         'levelled': 1,\n",
       "         'neustadt': 1,\n",
       "         'water': 3,\n",
       "         'pipes': 1,\n",
       "         'sewerage': 1,\n",
       "         'drainage': 1,\n",
       "         'works': 3,\n",
       "         'meet': 1,\n",
       "         'demands': 1,\n",
       "         'growing': 1,\n",
       "         'populationstettin': 1,\n",
       "         'developed': 1,\n",
       "         'port': 9,\n",
       "         'retained': 1,\n",
       "         'agrarian': 1,\n",
       "         'character': 1,\n",
       "         'industrialised': 1,\n",
       "         'rose': 1,\n",
       "         'industries': 3,\n",
       "         'flourished': 2,\n",
       "         'shipbuilding': 1,\n",
       "         'chemical': 1,\n",
       "         'food': 2,\n",
       "         'machinery': 1,\n",
       "         'starting': 2,\n",
       "         'connected': 2,\n",
       "         'cities': 7,\n",
       "         'railways': 1,\n",
       "         'connection': 2,\n",
       "         'enhanced': 1,\n",
       "         'kaiserfahrt': 1,\n",
       "         'piast': 5,\n",
       "         'canal': 1,\n",
       "         'scientific': 4,\n",
       "         'example': 2,\n",
       "         'entomological': 1,\n",
       "         'society': 12,\n",
       "         'created': 1,\n",
       "         'polishcatholic': 1,\n",
       "         'workers': 7,\n",
       "         'organisations': 3,\n",
       "         'ship': 1,\n",
       "         'predreadnought': 1,\n",
       "         'battleship': 1,\n",
       "         'kaiser': 1,\n",
       "         'wilhelm': 1,\n",
       "         'grosse': 1,\n",
       "         'numbered': 2,\n",
       "         'contributing': 1,\n",
       "         'families': 1,\n",
       "         'came': 2,\n",
       "         'posen': 1,\n",
       "         'wealthy': 1,\n",
       "         'industrialists': 1,\n",
       "         'among': 2,\n",
       "         'kazimierz': 1,\n",
       "         'pruszak': 1,\n",
       "         'director': 1,\n",
       "         'gollnow': 1,\n",
       "         'patriot': 1,\n",
       "         'predicted': 1,\n",
       "         'eventual': 1,\n",
       "         'return': 1,\n",
       "         'polandduring': 1,\n",
       "         'interwar': 2,\n",
       "         'weimar': 1,\n",
       "         'germanys': 2,\n",
       "         'thirdlargest': 2,\n",
       "         'hamburg': 1,\n",
       "         'bremen': 1,\n",
       "         'cars': 1,\n",
       "         'stoewer': 1,\n",
       "         'automobile': 1,\n",
       "         'company': 1,\n",
       "         'produced': 1,\n",
       "         'reichsautobahn': 1,\n",
       "         'berlinstettin': 1,\n",
       "         'completedstettin': 1,\n",
       "         'played': 4,\n",
       "         'role': 3,\n",
       "         'entrepot': 1,\n",
       "         'development': 1,\n",
       "         'scottish': 1,\n",
       "         'continent': 1,\n",
       "         'peaking': 1,\n",
       "         'annual': 2,\n",
       "         'export': 1,\n",
       "         'barrels': 1,\n",
       "         'outbreak': 1,\n",
       "         'resumed': 1,\n",
       "         'scale': 1,\n",
       "         'warsin': 1,\n",
       "         'elections': 3,\n",
       "         'reichstag': 1,\n",
       "         'nazis': 3,\n",
       "         'nationalists': 1,\n",
       "         'peoples': 1,\n",
       "         'party': 2,\n",
       "         'dnvp': 2,\n",
       "         'votes': 3,\n",
       "         'together': 1,\n",
       "         'winning': 1,\n",
       "         'nsdap': 1,\n",
       "         'getting': 1,\n",
       "         'wehrmacht': 1,\n",
       "         'wehrkreis': 1,\n",
       "         'controlled': 1,\n",
       "         'military': 2,\n",
       "         'units': 2,\n",
       "         'mecklenburg': 1,\n",
       "         'swinemunde': 2,\n",
       "         'swinoujscie': 2,\n",
       "         'greifswald': 1,\n",
       "         'minority': 1,\n",
       "         'less': 2,\n",
       "         'number': 9,\n",
       "         'union': 5,\n",
       "         'germany': 10,\n",
       "         'active': 2,\n",
       "         'consulate': 4,\n",
       "         'initiative': 1,\n",
       "         'activist': 1,\n",
       "         'maksymilian': 1,\n",
       "         'golisz': 4,\n",
       "         'institutions': 4,\n",
       "         'scout': 1,\n",
       "         'team': 13,\n",
       "         'historian': 2,\n",
       "         'musekamp': 3,\n",
       "         'writes': 1,\n",
       "         'headed': 2,\n",
       "         'employees': 1,\n",
       "         'withdrawal': 1,\n",
       "         'activities': 4,\n",
       "         'upheld': 1,\n",
       "         'aleksander': 1,\n",
       "         'omieczynski': 2,\n",
       "         'repressions': 1,\n",
       "         'exaggerated': 2,\n",
       "         'propagate': 1,\n",
       "         'infiltration': 1,\n",
       "         'closing': 1,\n",
       "         'head': 1,\n",
       "         'szczecins': 7,\n",
       "         'unit': 1,\n",
       "         'stanislaw': 1,\n",
       "         'borkowski': 1,\n",
       "         'oranienburg': 1,\n",
       "         'disbanded': 1,\n",
       "         'murdered': 1,\n",
       "         'defeat': 1,\n",
       "         'nazi': 4,\n",
       "         'street': 9,\n",
       "         'named': 2,\n",
       "         'according': 6,\n",
       "         'prewar': 3,\n",
       "         'organizations': 1,\n",
       "         'propaganda': 1,\n",
       "         'purposes': 1,\n",
       "         'base': 1,\n",
       "         'motorised': 1,\n",
       "         'infantry': 1,\n",
       "         'division': 6,\n",
       "         'across': 2,\n",
       "         'corridor': 1,\n",
       "         'later': 3,\n",
       "         'embarkation': 1,\n",
       "         'point': 2,\n",
       "         'operation': 1,\n",
       "         'weserubung': 1,\n",
       "         'assault': 1,\n",
       "         'norwayon': 1,\n",
       "         'municipalities': 1,\n",
       "         'creating': 1,\n",
       "         'grossstettin': 1,\n",
       "         'become': 3,\n",
       "         'hamburgas': 1,\n",
       "         'nongermans': 1,\n",
       "         'increased': 1,\n",
       "         'slave': 5,\n",
       "         'brought': 2,\n",
       "         'transports': 1,\n",
       "         'bydgoszcz': 2,\n",
       "         'torun': 2,\n",
       "         'lodz': 2,\n",
       "         'mainly': 1,\n",
       "         'synthetic': 1,\n",
       "         'silk': 1,\n",
       "         'factory': 1,\n",
       "         'wave': 2,\n",
       "         'addition': 2,\n",
       "         'work': 1,\n",
       "         'agricultural': 1,\n",
       "         'industry': 2,\n",
       "         'within': 3,\n",
       "         'cityduring': 1,\n",
       "         'labour': 2,\n",
       "         'camps': 2,\n",
       "         'czechs': 1,\n",
       "         'italians': 1,\n",
       "         'frenchmen': 1,\n",
       "         'belgians': 1,\n",
       "         'dutch': 1,\n",
       "         'enslaved': 1,\n",
       "         'prison': 1,\n",
       "         'operated': 3,\n",
       "         'subcamps': 1,\n",
       "         'february': 4,\n",
       "         'deported': 1,\n",
       "         'lublin': 2,\n",
       "         'reservation': 1,\n",
       "         'international': 2,\n",
       "         'press': 1,\n",
       "         'emerged': 1,\n",
       "         'describing': 1,\n",
       "         'regardless': 1,\n",
       "         'condition': 1,\n",
       "         'gender': 1,\n",
       "         'sign': 1,\n",
       "         'away': 1,\n",
       "         'property': 1,\n",
       "         'loaded': 1,\n",
       "         'onto': 1,\n",
       "         'trains': 2,\n",
       "         'camp': 1,\n",
       "         'escorted': 1,\n",
       "         'publicity': 1,\n",
       "         'given': 1,\n",
       "         'event': 2,\n",
       "         'actions': 1,\n",
       "         'unlikely': 1,\n",
       "         'attract': 1,\n",
       "         'notice': 1,\n",
       "         'action': 1,\n",
       "         'deportation': 1,\n",
       "         'territory': 1,\n",
       "         'germanyallied': 1,\n",
       "         'raids': 1,\n",
       "         'heavy': 1,\n",
       "         'fighting': 1,\n",
       "         'soviet': 9,\n",
       "         'armies': 2,\n",
       "         'stettins': 2,\n",
       "         'buildings': 6,\n",
       "         'almost': 3,\n",
       "         'intelligence': 1,\n",
       "         'assisted': 1,\n",
       "         'pinpointing': 1,\n",
       "         'targets': 1,\n",
       "         'bombing': 2,\n",
       "         'covered': 1,\n",
       "         'armys': 1,\n",
       "         'baltyk': 1,\n",
       "         'structure': 1,\n",
       "         'resistance': 2,\n",
       "         'infiltrated': 1,\n",
       "         'naval': 1,\n",
       "         'yards': 1,\n",
       "         'consisted': 1,\n",
       "         'smuggling': 1,\n",
       "         'swedenthe': 1,\n",
       "         'captured': 1,\n",
       "         'april': 4,\n",
       "         'majority': 5,\n",
       "         'left': 1,\n",
       "         'gain': 1,\n",
       "         'month': 2,\n",
       "         'twice': 1,\n",
       "         'finally': 1,\n",
       "         'permanent': 1,\n",
       "         'handover': 1,\n",
       "         'occurred': 1,\n",
       "         'july': 5,\n",
       "         'meantime': 1,\n",
       "         'returned': 1,\n",
       "         'might': 1,\n",
       "         'occupation': 2,\n",
       "         'zone': 2,\n",
       "         'appointed': 1,\n",
       "         'communists': 1,\n",
       "         'erich': 2,\n",
       "         'spiegel': 1,\n",
       "         'wiesner': 1,\n",
       "         'mayors': 1,\n",
       "         'mostly': 7,\n",
       "         'expected': 1,\n",
       "         'placing': 1,\n",
       "         'east': 2,\n",
       "         'would': 2,\n",
       "         'potsdam': 2,\n",
       "         'agreement': 3,\n",
       "         'victorious': 1,\n",
       "         'powers': 1,\n",
       "         'envisaged': 1,\n",
       "         'line': 3,\n",
       "         'running': 2,\n",
       "         'immediately': 1,\n",
       "         'thence': 1,\n",
       "         'returnees': 1,\n",
       "         'swelled': 1,\n",
       "         'mortality': 1,\n",
       "         'rate': 1,\n",
       "         'starvation': 1,\n",
       "         'mouth': 1,\n",
       "         'decided': 1,\n",
       "         'signed': 2,\n",
       "         'sovietcontrolled': 1,\n",
       "         'committee': 1,\n",
       "         'liberation': 1,\n",
       "         'pkwn': 1,\n",
       "         'contrasted': 1,\n",
       "         'londonbased': 1,\n",
       "         'governmentinexile': 1,\n",
       "         'decisive': 1,\n",
       "         'land': 1,\n",
       "         'renamed': 2,\n",
       "         'historic': 3,\n",
       "         'excluded': 1,\n",
       "         'september': 2,\n",
       "         'followed': 1,\n",
       "         'postwar': 2,\n",
       "         'systematic': 1,\n",
       "         'expulsion': 1,\n",
       "         'ease': 1,\n",
       "         'tensions': 1,\n",
       "         'settlers': 3,\n",
       "         'different': 1,\n",
       "         'help': 1,\n",
       "         'overcome': 1,\n",
       "         'fear': 1,\n",
       "         'caused': 1,\n",
       "         'special': 1,\n",
       "         'organised': 1,\n",
       "         'visitors': 1,\n",
       "         'partly': 1,\n",
       "         'central': 5,\n",
       "         'ukrainians': 2,\n",
       "         'areas': 4,\n",
       "         'annexed': 1,\n",
       "         'repatriated': 1,\n",
       "         ...})"
      ]
     },
     "execution_count": 45,
     "metadata": {},
     "output_type": "execute_result"
    }
   ],
   "source": [
    "from collections import Counter\n",
    "\n",
    "dict_sz = Counter(stopwords_removed)\n",
    "dict_sz"
   ]
  },
  {
   "cell_type": "code",
   "execution_count": 46,
   "metadata": {},
   "outputs": [],
   "source": [
    "#!pip install WordCloud\n",
    "\n",
    "import matplotlib.pyplot as plt\n",
    "from wordcloud import WordCloud"
   ]
  },
  {
   "cell_type": "code",
   "execution_count": 47,
   "metadata": {},
   "outputs": [
    {
     "data": {
      "text/plain": [
       "<matplotlib.image.AxesImage at 0x7f86113414f0>"
      ]
     },
     "execution_count": 47,
     "metadata": {},
     "output_type": "execute_result"
    },
    {
     "data": {
      "image/png": "[encoded data removed]",
      "text/plain": [
       "<Figure size 640x480 with 1 Axes>"
      ]
     },
     "metadata": {},
     "output_type": "display_data"
    }
   ],
   "source": [
    "wc = WordCloud(width=1800, height=900, background_color=\"white\",\n",
    "               max_words = 40, relative_scaling = 0.5, \n",
    "               normalize_plurals = False).generate_from_frequencies(dict_sz)\n",
    "plt.imshow(wc)"
   ]
  },
  {
   "cell_type": "code",
   "execution_count": 48,
   "metadata": {},
   "outputs": [],
   "source": [
    "#write the dictionary in a text file\n",
    "write_sz = open('output/counter_freq.txt', 'w') \n",
    "write_sz.write('word' + \";\" + \"frequency\" + \"\\n\")\n",
    "for key, value in Counter(dict_sz).items():\n",
    "    #print (key, value)\n",
    "    write_sz.write(key + ';' + str(value) + \"\\n\")\n",
    "write_sz.close()"
   ]
  },
  {
   "cell_type": "code",
   "execution_count": 49,
   "metadata": {},
   "outputs": [
    {
     "data": {
      "text/plain": [
       "\"\\n# Using the csv library\\nimport csv\\n\\nwith open('Output/Budapest_counter.csv', 'w') as csv_file:\\n    writer = csv.writer(csv_file, delimiter=';')\\n    writer.writerow(['word','frequency'])\\n    for key, value in dict_counts.items():\\n       writer.writerow([key, value])\\n\""
      ]
     },
     "execution_count": 49,
     "metadata": {},
     "output_type": "execute_result"
    }
   ],
   "source": [
    "\"\"\"\n",
    "# Using the csv library\n",
    "import csv\n",
    "\n",
    "with open('Output/Budapest_counter.csv', 'w') as csv_file:\n",
    "    writer = csv.writer(csv_file, delimiter=';')\n",
    "    writer.writerow(['word','frequency'])\n",
    "    for key, value in dict_counts.items():\n",
    "       writer.writerow([key, value])\n",
    "\"\"\""
   ]
  },
  {
   "cell_type": "markdown",
   "metadata": {},
   "source": [
    "With Python we can open, read and write other types of files. One of them is `pdf` format. While we can read pdfs we cannot write pdf from scratch, we only write content that is already in pdf format. To do this, we'll use another third party module called PyPDF2. "
   ]
  },
  {
   "cell_type": "code",
   "execution_count": 50,
   "metadata": {},
   "outputs": [],
   "source": [
    "#install third party module\n",
    "#!pip install PyPDF2"
   ]
  },
  {
   "cell_type": "code",
   "execution_count": 51,
   "metadata": {},
   "outputs": [],
   "source": [
    "import PyPDF2"
   ]
  },
  {
   "cell_type": "code",
   "execution_count": 52,
   "metadata": {},
   "outputs": [],
   "source": [
    "from PyPDF2 import PdfReader\n",
    "\n",
    "AEJ_health = PdfReader('input/app20170295.pdf')"
   ]
  },
  {
   "cell_type": "code",
   "execution_count": 53,
   "metadata": {},
   "outputs": [],
   "source": [
    "number_of_pages = len(AEJ_health.pages)"
   ]
  },
  {
   "cell_type": "code",
   "execution_count": 54,
   "metadata": {},
   "outputs": [
    {
     "data": {
      "text/plain": [
       "31"
      ]
     },
     "execution_count": 54,
     "metadata": {},
     "output_type": "execute_result"
    }
   ],
   "source": [
    "number_of_pages"
   ]
  },
  {
   "cell_type": "code",
   "execution_count": 55,
   "metadata": {},
   "outputs": [],
   "source": [
    "page = AEJ_health.pages[0]"
   ]
  },
  {
   "cell_type": "code",
   "execution_count": 56,
   "metadata": {},
   "outputs": [],
   "source": [
    "text = page.extract_text()"
   ]
  },
  {
   "cell_type": "code",
   "execution_count": 57,
   "metadata": {},
   "outputs": [
    {
     "data": {
      "text/plain": [
       "'American Economic Journal: Applied Economics 2019, 11(2): 302–332  \\nhttps://doi.org/10.1257/app.20170295\\n302* Curto: Department of Health Policy and Management, T.H. Chan School of Public Health, Harvard University, \\n677 Huntington Avenue, Boston, MA 02115-6028 (email: vcurto@hsph.harvard.edu); Einav: Department of \\nEconomics, Stanford University, 579 Serra Mall, Stanford, CA 94305-6072 (email: leinav@stanford.edu) and NBER; Finkelstein: Department of Economics, MIT, 50 Memorial Drive, Cambridge, MA 02142-1347 (email: afink@mit.edu) and NBER; Levin: Graduate School of Business, Stanford University, 655 Knight Way, Stanford, CA 94305-7298 (email: jdlevin@stanford.edu) and NBER; Bhattacharya: School of Medicine, Stanford University, \\n616 Serra Street, Stanford, CA 94305-6019 (email: jay@stanford.edu). Ilyana Kuziemko was coeditor for this article. We are grateful to Diego Jimenez, Andelyn Russell, Daniel Salmon, and Martina Uccioli for excellent research assistance. We thank three anonymous referees and numerous seminar participants for helpful comments. We gratefully acknowledge support from the NSF (SES-1527942, Bhattacharya, Einav, and Levin), the NIA (R01 AG032449, Einav and Finkelstein; R37 AG036791, Bhattacharya), and the Sloan Foundation (Bhattacharya, Einav, \\nFinkelstein, and Levin). The authors acknowledge the assistance of the Health Care Cost Institute (HCCI) and its \\ndata contributors, Aetna, Humana, and UnitedHealthcare, in providing the claims data analyzed in this study. \\n† Go to https://doi.org/10.1257/app.20170295 to visit the article page for additional materials and author  \\ndisclosure statements or to comment in the online discussion forum.Health Care Spending and Utilization  \\nin Public and Private Medicare†\\nBy Vilsa Curto, Liran Einav, Amy Finkelstein,  \\nJonathan Levin, and Jay Bhattacharya*\\nWe compare health care spending in public and private Medicare \\nusing newly available claims data from Medicare Advantage (MA) insurers. MA insurer revenues are 30 percent higher than their health care spending. Adjusting for enrollee mix, health care spending per enrollee in MA is 9 to 30 percent lower than in Traditional Medicare \\n(TM), depending on the way we define “comparable” enrollees. \\nSpending differences primarily reflect differences in health care uti-\\nlization, with similar reductions for “high-value” and “low-value” care, rather than health care prices. We present evidence consistent with MA plans encouraging substitution to less expensive care and engaging in utilization management. (JEL G22, H44, H51, I11, I13)\\nA  long-standing question in economics concerns the appropriate roles of the \\npublic sector and private sector in providing services that society has decided \\nare essential. This question comes up in many contexts, including education, utili-\\nties, transportation, and pensions. It is especially relevant in health care, where the \\nUnited States is unusual among developed countries in its distinctive mix of public and private health insurance. Comparisons of public and private health insurance systems are difficult, however, since they typically do not operate at a similar scale, for the same population, in the same markets, or with the same health care providers.\\nThe US Medicare program in recent years has been an exception because of the \\n“side by side” operation of public and private insurance programs. While Traditional Medicare (TM) offers publicly administered insurance, a significant fraction of the '"
      ]
     },
     "execution_count": 57,
     "metadata": {},
     "output_type": "execute_result"
    }
   ],
   "source": [
    "text"
   ]
  },
  {
   "cell_type": "markdown",
   "metadata": {},
   "source": [
    "### References \n",
    "https://www.datacamp.com/community/tutorials/reading-writing-files-python\n",
    "\n",
    "https://automatetheboringstuff.com/chapter6\n",
    "\n",
    "https://pypi.org/project/wikipedia/\n",
    "\n",
    "https://medium.com/@Alexander_H/scraping-wikipedia-with-python-8000fc9c9e6c\n",
    "\n",
    "https://automatetheboringstuff.com/chapter8/\n",
    "\n",
    "https://automatetheboringstuff.com/chapter13/"
   ]
  }
 ],
 "metadata": {
  "kernelspec": {
   "display_name": "Python 3 (ipykernel)",
   "language": "python",
   "name": "python3"
  },
  "language_info": {
   "codemirror_mode": {
    "name": "ipython",
    "version": 3
   },
   "file_extension": ".py",
   "mimetype": "text/x-python",
   "name": "python",
   "nbconvert_exporter": "python",
   "pygments_lexer": "ipython3",
   "version": "3.9.13"
  }
 },
 "nbformat": 4,
 "nbformat_minor": 4
}
